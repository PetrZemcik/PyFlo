{
 "cells": [
  {
   "cell_type": "code",
   "id": "initial_id",
   "metadata": {
    "collapsed": true,
    "ExecuteTime": {
     "end_time": "2024-09-25T11:55:42.060611Z",
     "start_time": "2024-09-25T11:55:42.052559Z"
    }
   },
   "source": [
    "# Define the exposures in millions\n",
    "exposure_AAA = 20\n",
    "exposure_BBB = 50\n",
    "exposure_below_B_minus = 30"
   ],
   "outputs": [],
   "execution_count": 1
  },
  {
   "metadata": {
    "ExecuteTime": {
     "end_time": "2024-09-25T11:56:00.052583Z",
     "start_time": "2024-09-25T11:56:00.038404Z"
    }
   },
   "cell_type": "code",
   "source": [
    "# Define the risk weights for each rating category\n",
    "risk_weight_AAA = 0.20  # 20%\n",
    "risk_weight_BBB = 1.00  # 100%\n",
    "risk_weight_below_B_minus = 1.50  # 150%"
   ],
   "id": "1f0a6982a44e5608",
   "outputs": [],
   "execution_count": 2
  },
  {
   "metadata": {
    "ExecuteTime": {
     "end_time": "2024-09-25T11:56:20.852194Z",
     "start_time": "2024-09-25T11:56:20.834307Z"
    }
   },
   "cell_type": "code",
   "source": [
    "# Calculate the RWA for each exposure\n",
    "rwa_AAA = exposure_AAA * risk_weight_AAA\n",
    "rwa_BBB = exposure_BBB * risk_weight_BBB\n",
    "rwa_below_B_minus = exposure_below_B_minus * risk_weight_below_B_minus"
   ],
   "id": "df715cef692ca222",
   "outputs": [],
   "execution_count": 3
  },
  {
   "metadata": {
    "ExecuteTime": {
     "end_time": "2024-09-25T11:57:22.660324Z",
     "start_time": "2024-09-25T11:57:22.644049Z"
    }
   },
   "cell_type": "code",
   "source": [
    "# Sum the RWA for all exposures\n",
    "total_rwa = rwa_AAA + rwa_BBB + rwa_below_B_minus"
   ],
   "id": "d7b2c628c72d1970",
   "outputs": [],
   "execution_count": 4
  },
  {
   "metadata": {
    "ExecuteTime": {
     "end_time": "2024-09-25T11:57:40.643038Z",
     "start_time": "2024-09-25T11:57:40.632164Z"
    }
   },
   "cell_type": "code",
   "source": [
    "# Define the regulatory capital requirement (e.g., 8%)\n",
    "regulatory_capital_requirement = 0.08"
   ],
   "id": "8c3c9b53961f47e2",
   "outputs": [],
   "execution_count": 5
  },
  {
   "metadata": {
    "ExecuteTime": {
     "end_time": "2024-09-25T11:58:36.293330Z",
     "start_time": "2024-09-25T11:58:36.275445Z"
    }
   },
   "cell_type": "code",
   "source": [
    "# Calculate the required regulatory capital\n",
    "required_capital = total_rwa * regulatory_capital_requirement"
   ],
   "id": "b68b2078105d1f61",
   "outputs": [],
   "execution_count": 6
  },
  {
   "metadata": {
    "ExecuteTime": {
     "end_time": "2024-09-25T11:58:58.938325Z",
     "start_time": "2024-09-25T11:58:58.935522Z"
    }
   },
   "cell_type": "code",
   "source": [
    "# Print the results\n",
    "print(f\"RWA for AAA exposure: {rwa_AAA} million\")\n",
    "print(f\"RWA for BBB exposure: {rwa_BBB} million\")\n",
    "print(f\"RWA for below B- exposure: {rwa_below_B_minus} million\")\n",
    "print(f\"Total RWA: {total_rwa} million\")\n",
    "print(f\"Required regulatory capital: {required_capital} million\")"
   ],
   "id": "4d803863901d4628",
   "outputs": [
    {
     "name": "stdout",
     "output_type": "stream",
     "text": [
      "RWA for AAA exposure: 4.0 million\n",
      "RWA for BBB exposure: 50.0 million\n",
      "RWA for below B- exposure: 45.0 million\n",
      "Total RWA: 99.0 million\n",
      "Required regulatory capital: 7.92 million\n"
     ]
    }
   ],
   "execution_count": 7
  }
 ],
 "metadata": {
  "kernelspec": {
   "display_name": "Python 3",
   "language": "python",
   "name": "python3"
  },
  "language_info": {
   "codemirror_mode": {
    "name": "ipython",
    "version": 2
   },
   "file_extension": ".py",
   "mimetype": "text/x-python",
   "name": "python",
   "nbconvert_exporter": "python",
   "pygments_lexer": "ipython2",
   "version": "2.7.6"
  }
 },
 "nbformat": 4,
 "nbformat_minor": 5
}
