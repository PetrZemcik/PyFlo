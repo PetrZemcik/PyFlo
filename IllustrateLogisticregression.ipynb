{
 "cells": [
  {
   "cell_type": "code",
   "id": "initial_id",
   "metadata": {
    "collapsed": true,
    "ExecuteTime": {
     "end_time": "2024-09-26T10:33:07.997200Z",
     "start_time": "2024-09-26T10:33:07.451028Z"
    }
   },
   "source": [
    "import numpy as np\n",
    "import pandas as pd\n",
    "from sklearn.model_selection import train_test_split\n",
    "from sklearn.linear_model import LogisticRegression\n",
    "from sklearn.metrics import accuracy_score\n",
    "\n",
    "\n",
    "# Generate sample data\n",
    "np.random.seed(0)\n",
    "data = pd.DataFrame({\n",
    "    'loan_amount': np.random.uniform(100000, 500000, 1000),\n",
    "    'interest_rate': np.random.uniform(2, 5, 1000),\n",
    "    'credit_score': np.random.uniform(300, 850, 1000),\n",
    "    'default': np.random.choice([0, 1], 1000)\n",
    "})\n",
    "\n",
    "# Features and target variable\n",
    "X = data[['loan_amount', 'interest_rate', 'credit_score']]\n",
    "y = data['default']\n",
    "\n",
    "# Split data into training and testing sets\n",
    "X_train, X_test, y_train, y_test = train_test_split(X, y, test_size=0.3, random_state=0)\n",
    "\n",
    "# Train logistic regression model\n",
    "model = LogisticRegression()\n",
    "model.fit(X_train, y_train)\n",
    "\n",
    "# Evaluate model\n",
    "y_pred = model.predict(X_test)\n",
    "accuracy = accuracy_score(y_test, y_pred)\n",
    "print(f'Accuracy: {accuracy:.2f}')\n",
    "\n",
    "# Predict on new data\n",
    "new_data = pd.DataFrame({\n",
    "    'loan_amount': [200000, 300000],\n",
    "    'interest_rate': [3.5, 4.0],\n",
    "    'credit_score': [700, 650]\n",
    "})\n",
    "predictions = model.predict(new_data)\n",
    "print(f'Predictions: {predictions}')"
   ],
   "outputs": [
    {
     "name": "stdout",
     "output_type": "stream",
     "text": [
      "Accuracy: 0.48\n",
      "Predictions: [0 0]\n"
     ]
    }
   ],
   "execution_count": 5
  }
 ],
 "metadata": {
  "kernelspec": {
   "display_name": "Python 3",
   "language": "python",
   "name": "python3"
  },
  "language_info": {
   "codemirror_mode": {
    "name": "ipython",
    "version": 2
   },
   "file_extension": ".py",
   "mimetype": "text/x-python",
   "name": "python",
   "nbconvert_exporter": "python",
   "pygments_lexer": "ipython2",
   "version": "2.7.6"
  }
 },
 "nbformat": 4,
 "nbformat_minor": 5
}
