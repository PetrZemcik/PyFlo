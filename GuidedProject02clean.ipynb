{
 "cells": [
  {
   "metadata": {},
   "cell_type": "markdown",
   "source": "# **Finances Visualizer**",
   "id": "13d7b3a6b4359b00"
  },
  {
   "metadata": {},
   "cell_type": "markdown",
   "source": "## **STEP 1: Getting inputs**",
   "id": "d641ebefa19967fd"
  },
  {
   "metadata": {
    "ExecuteTime": {
     "end_time": "2024-09-14T14:11:54.843828Z",
     "start_time": "2024-09-14T14:11:18.854370Z"
    }
   },
   "cell_type": "code",
   "source": [
    "print(33*'-')\n",
    "print(5*'-' + ' Financial  Visualizer ' + 5*'-')\n",
    "print(33*'-')\n",
    "salary = input('Annual Salary:')\n",
    "housing = input('Monthly Housing:')\n",
    "bills = input('Monthly Bills:')\n",
    "food = input('Weekly Food:')\n",
    "travel = input('Annual Travel:')"
   ],
   "id": "91a174d50c2f3fd0",
   "outputs": [
    {
     "name": "stdout",
     "output_type": "stream",
     "text": [
      "---------------------------------\n",
      "----- Financial  Visualizer -----\n",
      "---------------------------------\n"
     ]
    }
   ],
   "execution_count": 1
  },
  {
   "metadata": {},
   "cell_type": "markdown",
   "source": "# **STEP 2: Validating inputs**",
   "id": "4ad1bf5a6dd2eac1"
  },
  {
   "metadata": {
    "ExecuteTime": {
     "end_time": "2024-09-14T14:12:18.365275Z",
     "start_time": "2024-09-14T14:12:18.351225Z"
    }
   },
   "cell_type": "code",
   "source": [
    "if salary.isnumeric() and housing.isnumeric() and bills.isnumeric() and food.isnumeric() and travel.isnumeric():\n",
    "    print('All inputs confirmed valid')\n",
    "else:\n",
    "    print('Invalid input, please try again')"
   ],
   "id": "975b9342eb96b8b7",
   "outputs": [
    {
     "name": "stdout",
     "output_type": "stream",
     "text": [
      "All inputs confirmed valid\n"
     ]
    }
   ],
   "execution_count": 2
  },
  {
   "metadata": {
    "ExecuteTime": {
     "end_time": "2024-09-14T14:12:24.141774Z",
     "start_time": "2024-09-14T14:12:24.137177Z"
    }
   },
   "cell_type": "code",
   "source": [
    "salary = float(salary)\n",
    "print('Annual Salary:\\n'+ str(salary))\n",
    "housing = float(housing)\n",
    "print('Monthly housing:\\n'+ str(housing))\n",
    "bills = float(bills)\n",
    "print('Monthly Bills:\\n' + str(bills))\n",
    "food = float(food)\n",
    "print('Weekly Food:\\n' + str(food))\n",
    "travel = float(travel)\n",
    "print('Annual Travel:\\n' + str(travel))"
   ],
   "id": "cc5aae9b065c3cfd",
   "outputs": [
    {
     "name": "stdout",
     "output_type": "stream",
     "text": [
      "Annual Salary:\n",
      "50000.0\n",
      "Monthly housing:\n",
      "1000.0\n",
      "Monthly Bills:\n",
      "400.0\n",
      "Weekly Food:\n",
      "200.0\n",
      "Annual Travel:\n",
      "2500.0\n"
     ]
    }
   ],
   "execution_count": 3
  },
  {
   "metadata": {},
   "cell_type": "markdown",
   "source": "# **STEP 3: Taxes**",
   "id": "7452a3ebee7c93f9"
  },
  {
   "metadata": {
    "ExecuteTime": {
     "end_time": "2024-09-14T14:12:36.232823Z",
     "start_time": "2024-09-14T14:12:36.227275Z"
    }
   },
   "cell_type": "code",
   "source": [
    "if salary >=0 and salary <= 10000:\n",
    "    tax = 0.05*salary\n",
    "elif salary >= 10001 and salary <= 40000:\n",
    "    tax = 0.10*salary\n",
    "elif salary >= 40001 and salary <= 80000:\n",
    "    tax = 0.15*salary\n",
    "elif salary >= 80001:\n",
    "    tax = 0.20*salary\n",
    "tax=round(tax,2)"
   ],
   "id": "eab0a6b213f694e",
   "outputs": [],
   "execution_count": 4
  },
  {
   "metadata": {},
   "cell_type": "markdown",
   "source": "# **STEP 4: Calculations**",
   "id": "d691470a9dc010bd"
  },
  {
   "metadata": {
    "ExecuteTime": {
     "end_time": "2024-09-14T14:12:39.542950Z",
     "start_time": "2024-09-14T14:12:39.528246Z"
    }
   },
   "cell_type": "code",
   "source": [
    "annual_housing = housing*12\n",
    "annual_housing_percentage = (annual_housing/salary)*100\n",
    "annual_housing_percentage_bars = int(annual_housing_percentage)\n",
    "annual_housing=round(annual_housing,2)\n",
    "\n",
    "annual_bills = bills*12\n",
    "annual_bills_percentage = (annual_bills/salary)*100\n",
    "annual_bills_percentage_bars = int(annual_bills_percentage)\n",
    "annual_bills=round(annual_bills,2)\n",
    "\n",
    "annual_food = food*52\n",
    "annual_food_percentage = (annual_food/salary)*100\n",
    "annual_food_percentage_bars = int(annual_food_percentage)\n",
    "annual_food=round(annual_food,2)\n",
    "\n",
    "annual_travel = travel\n",
    "annual_travel_percentage = (annual_travel/salary)*100\n",
    "annual_travel_percentage_bars = int(annual_travel_percentage)\n",
    "annual_travel=round(annual_travel,2)\n",
    "\n",
    "tax_percentage = (tax/salary)*100\n",
    "tax_percentage_bars = int(tax_percentage)\n",
    "tax=round(tax,2)\n",
    "\n",
    "extra= salary - (annual_housing + annual_bills + annual_food + annual_travel + tax)\n",
    "extra=round(extra,2)\n",
    "extra_percentage = (extra/salary)*100\n",
    "extra_percentage_bars = int(extra_percentage)"
   ],
   "id": "c0a539c2253f1ee7",
   "outputs": [],
   "execution_count": 5
  },
  {
   "metadata": {},
   "cell_type": "markdown",
   "source": "# **STEP 5: Bar Chart**",
   "id": "19531e37d3c40bf0"
  },
  {
   "metadata": {
    "ExecuteTime": {
     "end_time": "2024-09-14T14:12:43.323786Z",
     "start_time": "2024-09-14T14:12:43.311419Z"
    }
   },
   "cell_type": "code",
   "source": [
    "max_bars=int(max(annual_housing_percentage_bars, annual_bills_percentage_bars, annual_food_percentage_bars, annual_travel_percentage_bars, tax_percentage_bars, extra_percentage_bars))\n",
    "\n",
    "print(33*'-'+max_bars*'-')\n",
    "\n",
    "print('housing | $' + \"{:>10,.2f}\".format(annual_housing) + ' | ' + \"{:>5.2f}\".format(annual_housing_percentage) + '% | ' + '#'*annual_housing_percentage_bars)\n",
    "\n",
    "print('  bills | $' + \"{:>10,.2f}\".format(annual_bills) + ' | ' + \"{:>5.2f}\".format(annual_bills_percentage) + '% | ' + '#'*annual_bills_percentage_bars)\n",
    "\n",
    "print('   food | $' + \"{:>10,.2f}\".format(annual_food) + ' | ' + \"{:>5.2f}\".format(annual_food_percentage) + '% | ' + '#'*annual_food_percentage_bars)\n",
    "\n",
    "print(' travel | $' + \"{:>10,.2f}\".format(annual_travel) + ' | ' + \"{:>5.2f}\".format(annual_food_percentage) + '% | ' + '#'*annual_food_percentage_bars)\n",
    "\n",
    "print('    tax | $' + \"{:>10,.2f}\".format(tax) + ' | ' + \"{:>5.2f}\".format(tax_percentage) + '% | ' + '#'*tax_percentage_bars)\n",
    "\n",
    "print('  extra | $' + \"{:>10,.2f}\".format(extra) + ' | ' + \"{:>5.2f}\".format(extra_percentage) + '% | ' + '#'*extra_percentage_bars)\n",
    "\n",
    "print(33*'-'+max_bars*'-')"
   ],
   "id": "cdbc1a5b8a52bc77",
   "outputs": [
    {
     "name": "stdout",
     "output_type": "stream",
     "text": [
      "----------------------------------------------------------\n",
      "housing | $ 12,000.00 | 24.00% | ########################\n",
      "  bills | $  4,800.00 |  9.60% | #########\n",
      "   food | $ 10,400.00 | 20.80% | ####################\n",
      " travel | $  2,500.00 | 20.80% | ####################\n",
      "    tax | $  7,500.00 | 15.00% | ###############\n",
      "  extra | $ 12,800.00 | 25.60% | #########################\n",
      "----------------------------------------------------------\n"
     ]
    }
   ],
   "execution_count": 6
  }
 ],
 "metadata": {
  "kernelspec": {
   "display_name": "Python 3",
   "language": "python",
   "name": "python3"
  },
  "language_info": {
   "codemirror_mode": {
    "name": "ipython",
    "version": 2
   },
   "file_extension": ".py",
   "mimetype": "text/x-python",
   "name": "python",
   "nbconvert_exporter": "python",
   "pygments_lexer": "ipython2",
   "version": "2.7.6"
  }
 },
 "nbformat": 4,
 "nbformat_minor": 5
}
