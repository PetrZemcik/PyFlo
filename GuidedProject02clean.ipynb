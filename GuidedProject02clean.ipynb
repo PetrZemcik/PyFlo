{
 "cells": [
  {
   "metadata": {},
   "cell_type": "markdown",
   "source": "# **Finances Visualizer**",
   "id": "13d7b3a6b4359b00"
  },
  {
   "metadata": {},
   "cell_type": "markdown",
   "source": "## **STEP 1: Getting inputs**",
   "id": "d641ebefa19967fd"
  },
  {
   "metadata": {
    "ExecuteTime": {
     "end_time": "2024-09-14T11:45:41.656399Z",
     "start_time": "2024-09-14T11:45:16.838132Z"
    }
   },
   "cell_type": "code",
   "source": [
    "print(33*'-')\n",
    "print(5*'-' + ' Financial  Visualizer ' + 5*'-')\n",
    "print(33*'-')\n",
    "salary = float(input('Enter your annual salary: '))\n",
    "print('Annual Salary:\\n'+ str(salary))\n",
    "housing = float(input('Enter your monthly housing cost: '))\n",
    "print('Monthly housing:\\n'+ str(housing))\n",
    "bills = float(input('Enter your monthly bills cost: '))\n",
    "print('Monthly Bills:\\n' + str(bills))\n",
    "food = float(input('Enter your weekly food cost: '))\n",
    "print('Weekly Food:\\n' + str(food))\n",
    "travel = float(input('Enter your annual travel cost: '))\n",
    "print('Annual Travel:\\n' + str(travel))"
   ],
   "id": "72cbb6bb66b951e",
   "outputs": [
    {
     "name": "stdout",
     "output_type": "stream",
     "text": [
      "---------------------------------\n",
      "----- Financial  Visualizer -----\n",
      "---------------------------------\n",
      "Annual Salary:\n",
      "150000.0\n",
      "Monthly housing:\n",
      "2000.0\n",
      "Monthly Bills:\n",
      "500.0\n",
      "Weekly Food:\n",
      "400.0\n",
      "Annual Travel:\n",
      "6000.0\n"
     ]
    }
   ],
   "execution_count": 8
  },
  {
   "metadata": {
    "ExecuteTime": {
     "end_time": "2024-09-14T11:53:39.233183Z",
     "start_time": "2024-09-14T11:53:13.197937Z"
    }
   },
   "cell_type": "code",
   "source": [
    "print(33*'-')\n",
    "print(5*'-' + ' Financial  Visualizer ' + 5*'-')\n",
    "print(33*'-')\n",
    "salary = input('Annual Salary:')\n",
    "housing = input('Monthly Housing:')\n",
    "bills = input('Monthly Bills:')\n",
    "food = input('Weekly Food:')\n",
    "travel = input('Annual Travel:')"
   ],
   "id": "91a174d50c2f3fd0",
   "outputs": [
    {
     "name": "stdout",
     "output_type": "stream",
     "text": [
      "---------------------------------\n",
      "----- Financial  Visualizer -----\n",
      "---------------------------------\n"
     ]
    }
   ],
   "execution_count": 9
  },
  {
   "metadata": {},
   "cell_type": "markdown",
   "source": "# **STEP 2: Validating inputs**",
   "id": "4ad1bf5a6dd2eac1"
  },
  {
   "metadata": {
    "ExecuteTime": {
     "end_time": "2024-09-14T12:22:08.641815Z",
     "start_time": "2024-09-14T12:22:08.622581Z"
    }
   },
   "cell_type": "code",
   "source": [
    "salary = str(50000A)\n",
    "housing = str(1000)\n",
    "bills = str(400)\n",
    "food = str(200)\n",
    "travel = str(2500)\n"
   ],
   "id": "d7de89434961ff4f",
   "outputs": [
    {
     "ename": "SyntaxError",
     "evalue": "invalid decimal literal (1129962194.py, line 1)",
     "output_type": "error",
     "traceback": [
      "\u001B[1;36m  Cell \u001B[1;32mIn[16], line 1\u001B[1;36m\u001B[0m\n\u001B[1;33m    salary = str(50000A)\u001B[0m\n\u001B[1;37m                     ^\u001B[0m\n\u001B[1;31mSyntaxError\u001B[0m\u001B[1;31m:\u001B[0m invalid decimal literal\n"
     ]
    }
   ],
   "execution_count": 16
  },
  {
   "metadata": {
    "ExecuteTime": {
     "end_time": "2024-09-14T12:22:43.111977Z",
     "start_time": "2024-09-14T12:22:37.112262Z"
    }
   },
   "cell_type": "code",
   "source": [
    "salary = input('Annual Salary:')\n",
    "salary.isnumeric()"
   ],
   "id": "96e576f0a3ce3fbf",
   "outputs": [
    {
     "data": {
      "text/plain": [
       "False"
      ]
     },
     "execution_count": 17,
     "metadata": {},
     "output_type": "execute_result"
    }
   ],
   "execution_count": 17
  },
  {
   "metadata": {
    "ExecuteTime": {
     "end_time": "2024-09-14T12:29:55.656296Z",
     "start_time": "2024-09-14T12:29:31.026712Z"
    }
   },
   "cell_type": "code",
   "source": [
    "print(33*'-')\n",
    "print(5*'-' + ' Financial  Visualizer ' + 5*'-')\n",
    "print(33*'-')\n",
    "salary = input('Annual Salary:')\n",
    "housing = input('Monthly Housing:')\n",
    "bills = input('Monthly Bills:')\n",
    "food = input('Weekly Food:')\n",
    "travel = input('Annual Travel:')\n",
    "\n",
    "if salary.isnumeric() and housing.isnumeric() and bills.isnumeric() and food.isnumeric() and travel.isnumeric():\n",
    "    print('All inputs confirmed valid')\n",
    "else:\n",
    "    print('Invalid input, please try again')\n"
   ],
   "id": "975b9342eb96b8b7",
   "outputs": [
    {
     "name": "stdout",
     "output_type": "stream",
     "text": [
      "---------------------------------\n",
      "----- Financial  Visualizer -----\n",
      "---------------------------------\n",
      "All inputs confirmed valid\n"
     ]
    }
   ],
   "execution_count": 19
  },
  {
   "metadata": {},
   "cell_type": "markdown",
   "source": "# **STEP 3: Taxes**",
   "id": "7452a3ebee7c93f9"
  },
  {
   "metadata": {
    "ExecuteTime": {
     "end_time": "2024-09-14T12:45:26.431572Z",
     "start_time": "2024-09-14T12:45:26.417239Z"
    }
   },
   "cell_type": "code",
   "source": [
    "salary = 45000 \n",
    "if salary >=0 and salary <= 10000:\n",
    "    tax = 0.05*salary\n",
    "elif salary >= 10001 and salary <= 40000:\n",
    "    tax = 0.10*(salary-10000)+0.05*10000\n",
    "elif salary >= 40001 and salary <= 80000:\n",
    "    tax = 0.15*(salary-40000)+0.10*(40000-10001)+0.05*10000\n",
    "elif salary >= 80001:\n",
    "    tax = 0.20*(salary-80000)+0.15*(80000-40001)+0.10*(40000-10001)+0.05*10000\n",
    "tax=round(tax,2)\n",
    "print(tax)"
   ],
   "id": "4ee0360707e3101e",
   "outputs": [
    {
     "name": "stdout",
     "output_type": "stream",
     "text": [
      "4249.9\n"
     ]
    }
   ],
   "execution_count": 24
  },
  {
   "metadata": {
    "ExecuteTime": {
     "end_time": "2024-09-14T12:48:05.507524Z",
     "start_time": "2024-09-14T12:48:05.496524Z"
    }
   },
   "cell_type": "code",
   "source": [
    "salary = 50009\n",
    "if salary >=0 and salary <= 10000:\n",
    "    tax = 0.05*salary\n",
    "elif salary >= 10001 and salary <= 40000:\n",
    "    tax = 0.10*salary\n",
    "elif salary >= 40001 and salary <= 80000:\n",
    "    tax = 0.15*salary\n",
    "elif salary >= 80001:\n",
    "    tax = 0.20*salary\n",
    "tax=round(tax,2)\n",
    "print(tax)"
   ],
   "id": "eab0a6b213f694e",
   "outputs": [
    {
     "name": "stdout",
     "output_type": "stream",
     "text": [
      "7501.35\n"
     ]
    }
   ],
   "execution_count": 26
  },
  {
   "metadata": {},
   "cell_type": "markdown",
   "source": "# **STEP 4: Calculations**",
   "id": "d691470a9dc010bd"
  },
  {
   "metadata": {
    "ExecuteTime": {
     "end_time": "2024-09-14T12:59:18.491763Z",
     "start_time": "2024-09-14T12:59:18.472093Z"
    }
   },
   "cell_type": "code",
   "source": [
    "yes_votes = 42_572_654\n",
    "total_votes = 85_705_149\n",
    "percentage = yes_votes / total_votes\n",
    "'{:-9} YES votes  {:2.2%}'.format(yes_votes, percentage)"
   ],
   "id": "ae699ea891b9129f",
   "outputs": [
    {
     "data": {
      "text/plain": [
       "' 42572654 YES votes  49.67%'"
      ]
     },
     "execution_count": 27,
     "metadata": {},
     "output_type": "execute_result"
    }
   ],
   "execution_count": 27
  },
  {
   "metadata": {
    "ExecuteTime": {
     "end_time": "2024-09-14T13:11:52.349599Z",
     "start_time": "2024-09-14T13:11:52.343962Z"
    }
   },
   "cell_type": "code",
   "source": [
    "salary=50000\n",
    "housing=1000\n",
    "bills=400\n",
    "food=200\n",
    "travel=2500\n",
    "tax=7501.35"
   ],
   "id": "e32368942c789706",
   "outputs": [],
   "execution_count": 32
  },
  {
   "metadata": {
    "ExecuteTime": {
     "end_time": "2024-09-14T13:22:43.213151Z",
     "start_time": "2024-09-14T13:22:43.200442Z"
    }
   },
   "cell_type": "code",
   "source": [
    "annual_housing = housing*12\n",
    "annual_housing_percentage = (annual_housing/salary)*100\n",
    "annual_housing=round(annual_housing,2)\n",
    "print(annual_housing)\n",
    "print('housing | $' + \"{:.2f}\".format(annual_housing) + ' | ' + \"{:.2f}\".format(annual_housing_percentage) + '%')\n",
    "annual_bills = bills*12\n",
    "annual_bills_percentage = (annual_bills/salary)*100\n",
    "annual_bills=round(annual_bills,2)\n",
    "print(annual_bills)\n",
    "annual_food = food*52\n",
    "annual_food_percentage = (annual_food/salary)*100\n",
    "annual_food=round(annual_food,2)\n",
    "print(annual_food)\n",
    "annual_travel = travel\n",
    "annual_food_percentage = (annual_travel/salary)*100\n",
    "annual_travel=round(annual_travel,2)\n",
    "print(annual_travel)\n"
   ],
   "id": "d238a4af459f39ed",
   "outputs": [
    {
     "name": "stdout",
     "output_type": "stream",
     "text": [
      "12000\n",
      "housing | $12000.00 | 24.00%\n",
      "4800\n",
      "10400\n",
      "2500\n"
     ]
    }
   ],
   "execution_count": 36
  },
  {
   "metadata": {
    "ExecuteTime": {
     "end_time": "2024-09-14T13:23:51.543517Z",
     "start_time": "2024-09-14T13:23:51.524687Z"
    }
   },
   "cell_type": "code",
   "source": [
    "annual_housing = housing*12\n",
    "annual_housing_percentage = (annual_housing/salary)*100\n",
    "annual_housing=round(annual_housing,2)\n",
    "print(annual_housing)\n",
    "print('housing | $' + \"{:,.2f}\".format(annual_housing) + ' | ' + \"{:.2f}\".format(annual_housing_percentage) + '%')"
   ],
   "id": "29b4e6fda7d8f0c7",
   "outputs": [
    {
     "name": "stdout",
     "output_type": "stream",
     "text": [
      "12000\n",
      "housing | $12,000.00 | 24.00%\n"
     ]
    }
   ],
   "execution_count": 38
  },
  {
   "metadata": {
    "ExecuteTime": {
     "end_time": "2024-09-14T13:57:57.148085Z",
     "start_time": "2024-09-14T13:57:57.129293Z"
    }
   },
   "cell_type": "code",
   "source": [
    "annual_housing = housing*12\n",
    "annual_housing_percentage = (annual_housing/salary)*100\n",
    "annual_housing_percentage_bars = int(annual_housing_percentage)\n",
    "annual_housing=round(annual_housing,2)\n",
    "print('housing | $' + \"{:,.2f}\".format(annual_housing) + ' | ' + \"{:.2f}\".format(annual_housing_percentage) + '% | ' + '#'*annual_housing_percentage_bars)\n",
    "\n",
    "annual_bills = bills*12\n",
    "annual_bills_percentage = (annual_bills/salary)*100\n",
    "annual_bills_percentage_bars = int(annual_bills_percentage)\n",
    "annual_bills=round(annual_bills,2)\n",
    "print('bills | $' + \"{:,.2f}\".format(annual_bills) + ' | ' + \"{:.2f}\".format(annual_bills_percentage) + '% | ' + '#'*annual_bills_percentage_bars) \n",
    "\n",
    "annual_food = food*52\n",
    "annual_food_percentage = (annual_food/salary)*100\n",
    "annual_food_percentage_bars = int(annual_food_percentage)\n",
    "annual_food=round(annual_food,2)\n",
    "print('food | $' + \"{:,.2f}\".format(annual_food) + ' | ' + \"{:.2f}\".format(annual_food_percentage) + '% | ' + '#'*annual_food_percentage_bars)\n",
    "\n",
    "annual_travel = travel\n",
    "annual_travel_percentage = (annual_travel/salary)*100\n",
    "annual_travel_percentage_bars = int(annual_travel_percentage)\n",
    "annual_travel=round(annual_travel,2)\n",
    "print('travel | $' + \"{:,.2f}\".format(annual_travel) + ' | ' + \"{:.2f}\".format(annual_travel_percentage) + '% | ' + '#'*annual_travel_percentage_bars)\n",
    "\n",
    "tax_percentage = (tax/salary)*100\n",
    "tax_percentage_bars = int(tax_percentage)\n",
    "tax=round(tax,2)\n",
    "print('tax | $' + \"{:,.2f}\".format(tax) + ' | ' + \"{:.2f}\".format(tax_percentage) + '% | ' + '#'*tax_percentage_bars)\n",
    "\n",
    "extra= salary - (annual_housing + annual_bills + annual_food + annual_travel + tax)\n",
    "extra=round(extra,2)\n",
    "extra_percentage = (extra/salary)*100\n",
    "extra_percentage_bars = int(extra_percentage)\n",
    "print('extra | $' + \"{:,.2f}\".format(extra) + ' | ' + \"{:.2f}\".format(extra_percentage) + '% | ' + '#'*extra_percentage_bars)"
   ],
   "id": "c0a539c2253f1ee7",
   "outputs": [
    {
     "name": "stdout",
     "output_type": "stream",
     "text": [
      "housing | $12,000.00 | 24.00% | ########################\n",
      "bills | $4,800.00 | 9.60% | #########\n",
      "food | $10,400.00 | 20.80% | ####################\n",
      "travel | $2,500.00 | 5.00% | #####\n",
      "tax | $7,501.35 | 15.00% | ###############\n",
      "extra | $12,798.65 | 25.60% | #########################\n"
     ]
    }
   ],
   "execution_count": 71
  },
  {
   "metadata": {},
   "cell_type": "markdown",
   "source": "# **STEP 5: Bar Chart**",
   "id": "19531e37d3c40bf0"
  },
  {
   "metadata": {
    "ExecuteTime": {
     "end_time": "2024-09-14T14:00:52.450714Z",
     "start_time": "2024-09-14T14:00:52.445446Z"
    }
   },
   "cell_type": "code",
   "source": [
    "max_bars=int(max(annual_housing_percentage_bars, annual_bills_percentage_bars, annual_food_percentage_bars, annual_travel_percentage_bars, tax_percentage_bars, extra_percentage_bars))\n",
    "\n",
    "\n",
    "print(33*'-'+max_bars*'-')\n",
    "\n",
    "print('housing | $' + \"{:>10,.2f}\".format(annual_housing) + ' | ' + \"{:>5.2f}\".format(annual_housing_percentage) + '% | ' + '#'*annual_housing_percentage_bars)\n",
    "\n",
    "print('  bills | $' + \"{:>10,.2f}\".format(annual_bills) + ' | ' + \"{:>5.2f}\".format(annual_bills_percentage) + '% | ' + '#'*annual_bills_percentage_bars)\n",
    "\n",
    "print('   food | $' + \"{:>10,.2f}\".format(annual_food) + ' | ' + \"{:>5.2f}\".format(annual_food_percentage) + '% | ' + '#'*annual_food_percentage_bars)\n",
    "\n",
    "print(' travel | $' + \"{:>10,.2f}\".format(annual_travel) + ' | ' + \"{:>5.2f}\".format(annual_food_percentage) + '% | ' + '#'*annual_food_percentage_bars)\n",
    "\n",
    "print('    tax | $' + \"{:>10,.2f}\".format(tax) + ' | ' + \"{:>5.2f}\".format(tax_percentage) + '% | ' + '#'*tax_percentage_bars)\n",
    "\n",
    "print('  extra | $' + \"{:>10,.2f}\".format(extra) + ' | ' + \"{:>5.2f}\".format(extra_percentage) + '% | ' + '#'*extra_percentage_bars)\n",
    "\n",
    "print(33*'-'+max_bars*'-')"
   ],
   "id": "cdbc1a5b8a52bc77",
   "outputs": [
    {
     "name": "stdout",
     "output_type": "stream",
     "text": [
      "----------------------------------------------------------\n",
      "housing | $ 12,000.00 | 24.00% | ########################\n",
      "  bills | $  4,800.00 |  9.60% | #########\n",
      "   food | $ 10,400.00 | 20.80% | ####################\n",
      " travel | $  2,500.00 | 20.80% | ####################\n",
      "    tax | $  7,501.35 | 15.00% | ###############\n",
      "  extra | $ 12,798.65 | 25.60% | #########################\n",
      "----------------------------------------------------------\n"
     ]
    }
   ],
   "execution_count": 78
  }
 ],
 "metadata": {
  "kernelspec": {
   "display_name": "Python 3",
   "language": "python",
   "name": "python3"
  },
  "language_info": {
   "codemirror_mode": {
    "name": "ipython",
    "version": 2
   },
   "file_extension": ".py",
   "mimetype": "text/x-python",
   "name": "python",
   "nbconvert_exporter": "python",
   "pygments_lexer": "ipython2",
   "version": "2.7.6"
  }
 },
 "nbformat": 4,
 "nbformat_minor": 5
}
