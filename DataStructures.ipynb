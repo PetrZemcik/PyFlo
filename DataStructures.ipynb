{
 "cells": [
  {
   "metadata": {},
   "cell_type": "markdown",
   "source": "# **Data Structures**",
   "id": "7fdd55eef2c2ea92"
  },
  {
   "metadata": {},
   "cell_type": "markdown",
   "source": "### **Lists**",
   "id": "ef049d05199ac523"
  },
  {
   "metadata": {},
   "cell_type": "code",
   "source": [
    "# List is a collection which is ordered and changeable. Allows duplicate members.\n",
    "# In Python lists are written with square brackets.\n",
    "names = ['Sally', 'Young', 'Samantha', 'Keaton']\n",
    "names.append('Jeremiah')\n",
    "print(names)\n",
    "names.remove('Young')\n",
    "names.remove('keaton')\n",
    "print(names)"
   ],
   "id": "2953d3fecdb40eab",
   "outputs": [],
   "execution_count": null
  },
  {
   "metadata": {},
   "cell_type": "code",
   "source": [
    "# List is a collection which is ordered and changeable. Allows duplicate members.\n",
    "# In Python lists are written with square brackets.\n",
    "names = ['Sally', 'Young', 'Samantha', 'Keaton']\n",
    "names.append('Jeremiah')\n",
    "print(names)\n",
    "try:\n",
    "    names.remove('Young')\n",
    "except ValueError:\n",
    "    print(\"Item not found in the list\")\n",
    "try:\n",
    "    names.remove('keaton')\n",
    "except ValueError:\n",
    "    print(\"Item not found in the list\")\n",
    "print(names)"
   ],
   "id": "740b738c5e7bb157",
   "outputs": [],
   "execution_count": null
  },
  {
   "metadata": {},
   "cell_type": "code",
   "source": [
    "def main():\n",
    "    line = []\n",
    "    action = ''\n",
    "    while action != 'done':\n",
    "        action = input('What action should take place? ')\n",
    "        if action == 'join':\n",
    "            name = input('Customer name: ')\n",
    "            line.append(name)                                                      \n",
    "        if action == 'leave':\n",
    "            name = input('Customer name: ')\n",
    "            if name in line:\n",
    "                line.remove(name)\n",
    "            else:\n",
    "                print('That person is not in line')\n",
    "        if action == 'show':\n",
    "            print(line)"
   ],
   "id": "1e9e3716de92e761",
   "outputs": [],
   "execution_count": null
  },
  {
   "metadata": {},
   "cell_type": "code",
   "source": "main()",
   "id": "2716ff8a719d7964",
   "outputs": [],
   "execution_count": null
  },
  {
   "metadata": {},
   "cell_type": "markdown",
   "source": "### **Indexing and Iteration with Lists**",
   "id": "a1571f3b2165b455"
  },
  {
   "metadata": {},
   "cell_type": "code",
   "source": [
    "numbers = [2, 5, 15, 20, 25, 30, 25]\n",
    "x = numbers[1]\n",
    "print(x, 'and', numbers[x])"
   ],
   "id": "ef0716e8ccfa8d85",
   "outputs": [],
   "execution_count": null
  },
  {
   "metadata": {},
   "cell_type": "code",
   "source": [
    "numbers = [2, 5, 15, 20, 25, 30, 25]\n",
    "numbers[2] = 100\n",
    "numbers[4] += 10\n",
    "numbers[-1] -= 5\n",
    "numbers[0] = numbers[1]\n",
    "print(numbers)"
   ],
   "id": "49553129417c1a38",
   "outputs": [],
   "execution_count": null
  },
  {
   "metadata": {},
   "cell_type": "code",
   "source": [
    "word = 'Read'\n",
    "word[0] = 'B'"
   ],
   "id": "311367d2a4718085",
   "outputs": [],
   "execution_count": null
  },
  {
   "metadata": {},
   "cell_type": "code",
   "source": [
    "numbers = [10, 20, 30, 40]\n",
    "\n",
    "# Print out all of the numbers\n",
    "i = 0\n",
    "while i < len(numbers):  # the len() function works for lists too!\n",
    "    print( numbers[i] )\n",
    "    i += 1\n",
    "\n",
    "# Also prints out all of the numbers\n",
    "for i in range(len(numbers)):\n",
    "    print( numbers[i] )"
   ],
   "id": "a6c8af4a13c23e92",
   "outputs": [],
   "execution_count": null
  },
  {
   "metadata": {},
   "cell_type": "code",
   "source": [
    "grades = [ ['Jane Sammy', 80, 93, 84, 87],\n",
    "           ['Karyn Small', 97, 98, 91, 92],\n",
    "           ['Steve Carrol', 87, 75, 73, 81],\n",
    "           ['Brady Richards', 70, 81, 91, 92]]"
   ],
   "id": "f88b61f053a43e2f",
   "outputs": [],
   "execution_count": null
  },
  {
   "metadata": {},
   "cell_type": "code",
   "source": [
    "def print_final_grades(grades):\n",
    "    for i in range(len(grades)):\n",
    "        grade_sum = 0\n",
    "        for j in range(1, 5):\n",
    "            grade_sum += grades[i][j]\n",
    "        print(grades[i][0], '->', str(grade_sum/4))\n",
    "        "
   ],
   "id": "12e0efaf54e8a776",
   "outputs": [],
   "execution_count": null
  },
  {
   "metadata": {},
   "cell_type": "code",
   "source": "print_final_grades(grades)",
   "id": "e0019d356e9a3eef",
   "outputs": [],
   "execution_count": null
  },
  {
   "metadata": {},
   "cell_type": "code",
   "source": [
    "def print_average_grades(grades):\n",
    "    overall_sum = 0\n",
    "    for i in range(len(grades)):\n",
    "        grade_sum = 0\n",
    "        for j in range(1, 5):\n",
    "            grade_sum += grades[i][j]\n",
    "        print(grades[i][0], '->', str(grade_sum/4))\n",
    "        overall_sum += grade_sum\n",
    "    print('Overall average:', overall_sum/(4*len(grades)))"
   ],
   "id": "5dfa2a9aaa8fe8e",
   "outputs": [],
   "execution_count": null
  },
  {
   "metadata": {},
   "cell_type": "code",
   "source": "print_average_grades(grades)",
   "id": "9582cd8a81bb5f10",
   "outputs": [],
   "execution_count": null
  },
  {
   "metadata": {},
   "cell_type": "markdown",
   "source": "### **Iteration trough Dictionaries**",
   "id": "13c2156a6e9cca0a"
  },
  {
   "metadata": {},
   "cell_type": "code",
   "source": [
    "pantry = {'protein bar': 200, 'apple': 50, 'banana':110 }\n",
    "for key in pantry:\n",
    "    print(key, pantry[key])"
   ],
   "id": "ad7e90b73ae2a00",
   "outputs": [],
   "execution_count": null
  },
  {
   "metadata": {},
   "cell_type": "code",
   "source": [
    "pantry = {'protein bar': 200, 'apple': 50, 'banana':110 }\n",
    "for food, calories in pantry.items():\n",
    "    print(food, calories)"
   ],
   "id": "dbeb4be707ee0226",
   "outputs": [],
   "execution_count": null
  },
  {
   "metadata": {},
   "cell_type": "markdown",
   "source": "### ** SETS **",
   "id": "f1ddba3e3c3c6c4"
  },
  {
   "metadata": {},
   "cell_type": "code",
   "source": [
    "# Mixing integers and floats\n",
    "numbers = {5, 7.1, 5.921, 4, 5}\n",
    "print(numbers)"
   ],
   "id": "9e14a82088dc10b5",
   "outputs": [],
   "execution_count": null
  },
  {
   "metadata": {},
   "cell_type": "code",
   "source": [
    "names = {'Sally', 'Jeff'}\n",
    "names.add('Jeff')\n",
    "names.discard('Sally')\n",
    "names.add('Jane')\n",
    "print(names)"
   ],
   "id": "ffcec9e7d010975c",
   "outputs": [],
   "execution_count": null
  },
  {
   "metadata": {},
   "cell_type": "code",
   "source": [
    "names = {'Jeff', 'Jane'}\n",
    "if 'John' in names:\n",
    "    print('This should not print out!')\n",
    "else:\n",
    "    print('But this should.')"
   ],
   "id": "e54a2e377a762914",
   "outputs": [],
   "execution_count": null
  },
  {
   "metadata": {},
   "cell_type": "code",
   "source": [
    "# Example of set.pop() function\n",
    "fruits = {'apple', 'banana', 'cherry'}\n",
    "fruit = fruits.pop()\n",
    "print(fruit)  # Outputs an arbitrary element from the set\n",
    "print(fruits)  # Outputs the set with the removed element"
   ],
   "id": "1289ef62b25083dd",
   "outputs": [],
   "execution_count": null
  },
  {
   "metadata": {},
   "cell_type": "code",
   "source": [
    "names = {'Jeff', 'Jane', 'Adam', 'Amanda'}\n",
    "for n in names:\n",
    "    print(n)\n",
    "    print(names)"
   ],
   "id": "bb6c63a55b7958c7",
   "outputs": [],
   "execution_count": null
  },
  {
   "metadata": {},
   "cell_type": "code",
   "source": [
    "def get_attendees_with_first_name(attendees, name):\n",
    "    results = set()\n",
    "    for att in attendees:\n",
    "        if att.startswith(name):\n",
    "            results.add(att)\n",
    "    return results"
   ],
   "id": "12a326fbc2bbc97f",
   "outputs": [],
   "execution_count": null
  },
  {
   "metadata": {},
   "cell_type": "code",
   "source": [
    "people = {'John Jones', 'Sally Johnson', 'Carli Johnsonville', 'Johnny Reacher'}\n",
    "r = get_attendees_with_first_name(people, 'John')\n",
    "print(r)"
   ],
   "id": "c0bc57e7af61174d",
   "outputs": [],
   "execution_count": null
  },
  {
   "metadata": {},
   "cell_type": "code",
   "source": [
    "def remove_attendees_with_first_name(attendees, name):\n",
    "    for att in attendees:\n",
    "        if att.startswith(name):\n",
    "            r.discard(att)"
   ],
   "id": "ad7f04b8327da6e9",
   "outputs": [],
   "execution_count": null
  },
  {
   "metadata": {},
   "cell_type": "code",
   "source": "remove_attendees_with_first_name(people, 'John')",
   "id": "9de29bc4dddb8ee2",
   "outputs": [],
   "execution_count": null
  },
  {
   "metadata": {},
   "cell_type": "code",
   "source": "print(people)",
   "id": "daccc4dd4cb4d46a",
   "outputs": [],
   "execution_count": null
  },
  {
   "metadata": {},
   "cell_type": "code",
   "source": [
    "def remove_attendees_with_first_name(attendees, name):\n",
    "    to_remove = set()\n",
    "    results = set()\n",
    "    for att in attendees:\n",
    "        if att.startswith(name):\n",
    "            to_remove.add(att)\n",
    "    for remove in to_remove:\n",
    "        people.discard(remove)"
   ],
   "id": "6f1b88083c5b8023",
   "outputs": [],
   "execution_count": null
  },
  {
   "metadata": {},
   "cell_type": "code",
   "source": "remove_attendees_with_first_name(people, 'John')",
   "id": "ce62f74ad7cdfba2",
   "outputs": [],
   "execution_count": null
  },
  {
   "metadata": {},
   "cell_type": "code",
   "source": "print(people)",
   "id": "9aba4373d85a3b39",
   "outputs": [],
   "execution_count": null
  },
  {
   "metadata": {},
   "cell_type": "markdown",
   "source": "### **Combining Structures**",
   "id": "3ca7aaa5ebeea22b"
  },
  {
   "metadata": {},
   "cell_type": "code",
   "source": [
    "thesaurus = {\n",
    "  'strong' : {'mighty', 'tough', 'robust'},\n",
    "  'small' : {'tiny', 'little'},\n",
    "  'fast' : {'speedy', 'quick'},\n",
    "  'calm' : {'mellow', 'chill', 'relaxed', 'peaceful'},\n",
    "}"
   ],
   "id": "9ae620885b372bed",
   "outputs": [],
   "execution_count": null
  },
  {
   "metadata": {},
   "cell_type": "code",
   "source": [
    "def find_similar_words(thesaurus):\n",
    "    primary_word = input('What word do you want to find similar words for? ')\n",
    "    if primary_word in thesaurus:\n",
    "        print('Here are some ideas:')\n",
    "        for word in thesaurus[primary_word]:\n",
    "            print('  ' + word)\n",
    "    else:\n",
    "        print('I don\\'t know about that word!')"
   ],
   "id": "77d95b6df4c1ccfc",
   "outputs": [],
   "execution_count": null
  },
  {
   "metadata": {},
   "cell_type": "code",
   "source": "find_similar_words(thesaurus)",
   "id": "6a1e47957c74e6ac",
   "outputs": [],
   "execution_count": null
  },
  {
   "metadata": {},
   "cell_type": "code",
   "source": [
    "def add_word(thesaurus):\n",
    "    base_word=input('Enter the base word: ')\n",
    "    similar_word=input('Enter the similar word: ')\n",
    "    if base_word in thesaurus:\n",
    "        thesaurus[base_word].add(similar_word)\n",
    "    else:\n",
    "        thesaurus[base_word] = {similar_word}"
   ],
   "id": "aa41692eefcbf899",
   "outputs": [],
   "execution_count": null
  },
  {
   "metadata": {},
   "cell_type": "code",
   "source": "add_word(thesaurus) ",
   "id": "628a23dd56925072",
   "outputs": [],
   "execution_count": null
  },
  {
   "metadata": {},
   "cell_type": "code",
   "source": "print(thesaurus)",
   "id": "45432a310f1ba040",
   "outputs": [],
   "execution_count": null
  },
  {
   "metadata": {},
   "cell_type": "code",
   "source": [
    "employees = [\n",
    "  {'name':'Samantha Oxford', 'title':'Sr Attorney', 'salary':200000},\n",
    "  {'name':'Jim Doyle', 'title': 'Jr Engineer', 'salary':85000, 'office':'Atlanta'},\n",
    "  {'name':'Rebecca Jameson', 'title': 'Sales', 'commision': 2},\n",
    "  {'name':'Stanley Reed'},\n",
    "]"
   ],
   "id": "11fb7c00747d0381",
   "outputs": [],
   "execution_count": null
  },
  {
   "metadata": {},
   "cell_type": "code",
   "source": [
    "def lookup_employee(employees):\n",
    "    name = input('Employee name: ')\n",
    "    for employee in employees:\n",
    "        if 'name' in employee and employee['name'] == name:\n",
    "            print('Information for ' + name + ':')\n",
    "            for key in employee:\n",
    "                print('  ' + key + ': ' + str(employee[key]))\n",
    "            return\n",
    "    print('Employee not found')"
   ],
   "id": "5cc078c842b0bab",
   "outputs": [],
   "execution_count": null
  },
  {
   "metadata": {},
   "cell_type": "code",
   "source": "lookup_employee(employees)",
   "id": "c9ed90de773b3f01",
   "outputs": [],
   "execution_count": null
  },
  {
   "metadata": {},
   "cell_type": "markdown",
   "source": "### **Files and Data Structures**",
   "id": "345a42734d046777"
  },
  {
   "metadata": {},
   "cell_type": "code",
   "source": [
    "# Loading from a file\n",
    "thesaurus = {\n",
    "  'strong' : {'mighty', 'tough', 'robust'},\n",
    "  'small' : {'tiny', 'little'},\n",
    "  'fast' : {'speedy', 'quick'},\n",
    "  'calm' : {'mellow', 'chill', 'relaxed', 'peaceful'},\n",
    "}"
   ],
   "id": "d3d2169cf953df5b",
   "outputs": [],
   "execution_count": null
  },
  {
   "metadata": {},
   "cell_type": "code",
   "source": "print(thesaurus)",
   "id": "eff7df6041c7ac86",
   "outputs": [],
   "execution_count": null
  },
  {
   "metadata": {},
   "cell_type": "code",
   "source": [
    "def save_thesaurus(thes):\n",
    "    f = open('thesaurus.txt', 'w')\n",
    "    for k, v in thes.items():\n",
    "        l = list(v)\n",
    "        print(k, l)\n",
    "        print(k + ' : ' + ' '.join(l) + '\\n')\n",
    "        f.write(k + ' : ' + ' '.join(l) + '\\n')\n",
    "    f.close()"
   ],
   "id": "38e907d059030fc0",
   "outputs": [],
   "execution_count": null
  },
  {
   "metadata": {},
   "cell_type": "code",
   "source": "save_thesaurus(thesaurus)",
   "id": "295bcf022d43e895",
   "outputs": [],
   "execution_count": null
  }
 ],
 "metadata": {
  "kernelspec": {
   "display_name": "Python 3",
   "language": "python",
   "name": "python3"
  },
  "language_info": {
   "codemirror_mode": {
    "name": "ipython",
    "version": 2
   },
   "file_extension": ".py",
   "mimetype": "text/x-python",
   "name": "python",
   "nbconvert_exporter": "python",
   "pygments_lexer": "ipython2",
   "version": "2.7.6"
  }
 },
 "nbformat": 4,
 "nbformat_minor": 5
}
