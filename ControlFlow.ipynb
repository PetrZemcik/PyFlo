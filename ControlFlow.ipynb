{
 "cells": [
  {
   "metadata": {},
   "cell_type": "markdown",
   "source": "# **IF STATEMENTS**",
   "id": "cf56ec9cf1e7727f"
  },
  {
   "metadata": {
    "ExecuteTime": {
     "end_time": "2024-09-14T09:33:53.651246Z",
     "start_time": "2024-09-14T09:33:41.001467Z"
    }
   },
   "cell_type": "code",
   "source": [
    "earned = int(input('How much money did you earn? '))\n",
    "spent = int(input('How much money did you spend? '))\n",
    "if earned > spent:\n",
    "    print('Great! you earned more than you spent. Good job.')"
   ],
   "id": "2571b484edb35e8f",
   "outputs": [
    {
     "name": "stdout",
     "output_type": "stream",
     "text": [
      "Great! you earned more than you spent. Good job.\n"
     ]
    }
   ],
   "execution_count": 1
  },
  {
   "metadata": {
    "ExecuteTime": {
     "end_time": "2024-09-14T09:34:40.330443Z",
     "start_time": "2024-09-14T09:34:31.858339Z"
    }
   },
   "cell_type": "code",
   "source": [
    "earned = int(input('How much money did you earn? '))\n",
    "spent = int(input('How much money did you spend? '))\n",
    "if earned > spent:\n",
    "    print('Great! you earned more than you spent. Good job.')\n",
    "if earned == spent:\n",
    "    print('Wow, you broke even.')\n",
    "if earned < spent:\n",
    "    print('You are in a deficit!')"
   ],
   "id": "e0294b3617f0664",
   "outputs": [
    {
     "name": "stdout",
     "output_type": "stream",
     "text": [
      "You are in a deficit!\n"
     ]
    }
   ],
   "execution_count": 2
  },
  {
   "metadata": {
    "ExecuteTime": {
     "end_time": "2024-09-14T09:35:47.672089Z",
     "start_time": "2024-09-14T09:35:36.946053Z"
    }
   },
   "cell_type": "code",
   "source": [
    "current_year = int(input('what year is it? '))\n",
    "received_year = int(input('What year did you get your passport? '))\n",
    "if received_year + 10 < current_year:\n",
    "    print('You should go get a new passport!')\n",
    "if received_year + 10 == current_year:\n",
    "    print('You should get a new passport sometime soon')\n",
    "if received_year + 10 > current_year:\n",
    "    print('You do not need to get a new passport for now')"
   ],
   "id": "cce57abad185d6f0",
   "outputs": [
    {
     "name": "stdout",
     "output_type": "stream",
     "text": [
      "You should get a new passport sometime soon\n"
     ]
    }
   ],
   "execution_count": 3
  },
  {
   "metadata": {
    "ExecuteTime": {
     "end_time": "2024-09-14T09:36:38.658305Z",
     "start_time": "2024-09-14T09:36:34.990648Z"
    }
   },
   "cell_type": "code",
   "source": [
    "age = int(input('Enter age: '))\n",
    "if age > 21:\n",
    "    print('You may drink')"
   ],
   "id": "350d4bf3e980611b",
   "outputs": [
    {
     "name": "stdout",
     "output_type": "stream",
     "text": [
      "You may drink\n"
     ]
    }
   ],
   "execution_count": 4
  },
  {
   "metadata": {
    "ExecuteTime": {
     "end_time": "2024-09-14T09:37:08.567410Z",
     "start_time": "2024-09-14T09:37:03.440394Z"
    }
   },
   "cell_type": "code",
   "source": [
    "money = float(input('Money in account: '))\n",
    "if money > 1500.0:\n",
    "    print('You can afford to pay for dinner')"
   ],
   "id": "bd1a27bad535a336",
   "outputs": [
    {
     "name": "stdout",
     "output_type": "stream",
     "text": [
      "You can afford to pay for dinner\n"
     ]
    }
   ],
   "execution_count": 5
  },
  {
   "metadata": {
    "ExecuteTime": {
     "end_time": "2024-09-14T09:38:57.682973Z",
     "start_time": "2024-09-14T09:38:53.344696Z"
    }
   },
   "cell_type": "code",
   "source": [
    "height = int(input('Height in inches: '))\n",
    "if height >= 40:\n",
    "    if height <= 70: \n",
    "        print('You may ride')\n",
    "if height < 40:\n",
    "    print('You may not ride')\n",
    "if height > 70:\n",
    "    print('You may not ride')"
   ],
   "id": "70ddbd583eed3e3",
   "outputs": [
    {
     "name": "stdout",
     "output_type": "stream",
     "text": [
      "You may ride\n"
     ]
    }
   ],
   "execution_count": 6
  },
  {
   "metadata": {
    "ExecuteTime": {
     "end_time": "2024-09-14T09:42:01.852774Z",
     "start_time": "2024-09-14T09:41:57.284076Z"
    }
   },
   "cell_type": "code",
   "source": [
    "height = int(input('Height in inches: '))\n",
    "if height >= 40 and height <= 70: \n",
    "    print('You may ride')\n",
    "if height < 40 or height > 70:\n",
    "    print('You may not ride')"
   ],
   "id": "4f7fab6c3dda779d",
   "outputs": [
    {
     "name": "stdout",
     "output_type": "stream",
     "text": [
      "You may ride\n"
     ]
    }
   ],
   "execution_count": 7
  },
  {
   "metadata": {
    "ExecuteTime": {
     "end_time": "2024-09-14T09:44:09.171607Z",
     "start_time": "2024-09-14T09:44:04.562176Z"
    }
   },
   "cell_type": "code",
   "source": [
    "height = int(input('Height in inches: '))\n",
    "if height >= 40 and height <= 70: \n",
    "    print('You may ride')\n",
    "else:\n",
    "    print('You may not ride')"
   ],
   "id": "b169e3b69a8f14ad",
   "outputs": [
    {
     "name": "stdout",
     "output_type": "stream",
     "text": [
      "You may not ride\n"
     ]
    }
   ],
   "execution_count": 9
  },
  {
   "metadata": {
    "ExecuteTime": {
     "end_time": "2024-09-14T09:46:16.967405Z",
     "start_time": "2024-09-14T09:46:12.381625Z"
    }
   },
   "cell_type": "code",
   "source": [
    "# A program to check if a name is valid based on length and capitalization.\n",
    "\n",
    "name = input(\"What is your first name? \")\n",
    "\n",
    "if len(name) < 35 and name[0].isupper():\n",
    "    print(\"Thats a valid name\")\n",
    "else:\n",
    "    print(\"Sorry, your name is either\")\n",
    "    print(\"  * Too long\")\n",
    "    print(\"  * Not capitalized\")"
   ],
   "id": "79c99548aae912af",
   "outputs": [
    {
     "name": "stdout",
     "output_type": "stream",
     "text": [
      "Sorry, your name is either\n",
      "  * Too long\n",
      "  * Not capitalized\n"
     ]
    }
   ],
   "execution_count": 10
  },
  {
   "metadata": {
    "ExecuteTime": {
     "end_time": "2024-09-14T09:53:51.778449Z",
     "start_time": "2024-09-14T09:53:46.206452Z"
    }
   },
   "cell_type": "code",
   "source": [
    "# Register for Spanish class\n",
    "level = input('What experience level in Spanish? ')\n",
    "if level=='none':\n",
    "    print('You should register for Spanish 101')\n",
    "elif level=='101':\n",
    "    print('You should register for Spanish 102')\n",
    "elif level=='102':\n",
    "    print('You should register for Spanish 201')\n",
    "elif level=='201':\n",
    "    print('You should register for Spanish 202')\n",
    "else:\n",
    "    print('No need to register for Spanish class')   "
   ],
   "id": "65b0bf460bb9c477",
   "outputs": [
    {
     "name": "stdout",
     "output_type": "stream",
     "text": [
      "You should register for Spanish 202\n"
     ]
    }
   ],
   "execution_count": 12
  },
  {
   "metadata": {
    "ExecuteTime": {
     "end_time": "2024-09-14T10:02:22.614464Z",
     "start_time": "2024-09-14T10:02:01.407112Z"
    }
   },
   "cell_type": "code",
   "source": [
    "hungry = input(\"Are you hungry? \")\n",
    "\n",
    "if hungry == \"yes\":\n",
    "    sounds_good = input(\"What sounds good to eat? \")\n",
    "    if sounds_good == \"pizza\":\n",
    "         print(\"Go to Pizza Hut and order pizza\")\n",
    "    elif sounds_good == \"burger\":\n",
    "         print(\"Go to In-n-Out and get a burger\")\n",
    "    elif sounds_good == \"salad\":\n",
    "       print(\"Go home and make a salad\")\n",
    "    else:\n",
    "        print(\"Unsure\")\n",
    "  \n",
    "thirsty = input(\"Are you thirsty? \")  \n",
    "\n",
    "if thirsty == \"yes\":\n",
    "    sounds_good = input(\"What sounds good to drink? \")\n",
    "    if sounds_good == \"water\":\n",
    "        print(\"Drink your water bottle\")\n",
    "    elif sounds_good == \"juice\":\n",
    "        print(\"Go buy some juice\")\n",
    "    else:\n",
    "        print(\"Unsure\")"
   ],
   "id": "598b664c555b7a57",
   "outputs": [
    {
     "name": "stdout",
     "output_type": "stream",
     "text": [
      "Go to Pizza Hut and order pizza\n",
      "Go buy some juice\n"
     ]
    }
   ],
   "execution_count": 14
  },
  {
   "metadata": {},
   "cell_type": "markdown",
   "source": "# **WHILE LOOPS**",
   "id": "a8f37f060af5d96a"
  },
  {
   "metadata": {
    "ExecuteTime": {
     "end_time": "2024-09-14T10:08:45.517775Z",
     "start_time": "2024-09-14T10:08:27.802151Z"
    }
   },
   "cell_type": "code",
   "source": [
    "word = input('Give me a word: ')\n",
    "upper_word = word.upper()\n",
    "print('The word in upper-case: ' + upper_word)"
   ],
   "id": "bbfe05276122d6f2",
   "outputs": [
    {
     "name": "stdout",
     "output_type": "stream",
     "text": [
      "The word in upper-case: HELLO\n"
     ]
    }
   ],
   "execution_count": 15
  },
  {
   "metadata": {
    "ExecuteTime": {
     "end_time": "2024-09-14T10:12:39.069921Z",
     "start_time": "2024-09-14T10:12:29.332970Z"
    }
   },
   "cell_type": "code",
   "source": [
    "repeat_count = 1\n",
    "while repeat_count <= 2:\n",
    "    # repeat_count += 1\n",
    "    repeat_count = repeat_count + 1\n",
    "    word = input('Give me a word: ')\n",
    "    upper_word = word.upper()\n",
    "    print('The word in upper-case: ' + upper_word)"
   ],
   "id": "4daf63cf012ccc22",
   "outputs": [
    {
     "name": "stdout",
     "output_type": "stream",
     "text": [
      "The word in upper-case: HELLO\n",
      "The word in upper-case: PETR\n"
     ]
    }
   ],
   "execution_count": 17
  },
  {
   "metadata": {
    "ExecuteTime": {
     "end_time": "2024-09-14T10:26:18.600850Z",
     "start_time": "2024-09-14T10:26:18.586113Z"
    }
   },
   "cell_type": "code",
   "source": [
    "number_sum = 0\n",
    "index = 1\n",
    "while index <= 1000:\n",
    "    number_sum += index\n",
    "    index += 1\n",
    "print(\"The sum is:\", number_sum)\n",
    "n=1000\n",
    "print(\"The sum is:\", n*(n+1)/2)"
   ],
   "id": "c497f665bd71aa1e",
   "outputs": [
    {
     "name": "stdout",
     "output_type": "stream",
     "text": [
      "The sum is: 500500\n",
      "The sum is: 500500.0\n"
     ]
    }
   ],
   "execution_count": 19
  },
  {
   "metadata": {
    "ExecuteTime": {
     "end_time": "2024-09-14T10:30:21.021593Z",
     "start_time": "2024-09-14T10:30:21.016198Z"
    }
   },
   "cell_type": "code",
   "source": [
    "pyramid_size = 10\n",
    "i = 1\n",
    "while i <= pyramid_size:\n",
    "    spacing = pyramid_size - i\n",
    "    print(\" \" * spacing + \"#\" * (i*2))\n",
    "    i += 1"
   ],
   "id": "e2ee09cf5b9d7b65",
   "outputs": [
    {
     "name": "stdout",
     "output_type": "stream",
     "text": [
      "         ##\n",
      "        ####\n",
      "       ######\n",
      "      ########\n",
      "     ##########\n",
      "    ############\n",
      "   ##############\n",
      "  ################\n",
      " ##################\n",
      "####################\n"
     ]
    }
   ],
   "execution_count": 20
  },
  {
   "metadata": {
    "ExecuteTime": {
     "end_time": "2024-09-14T10:31:54.943415Z",
     "start_time": "2024-09-14T10:31:50.681571Z"
    }
   },
   "cell_type": "code",
   "source": [
    "pyramid_size = int(input(\"Give me a Pyramid size: \"))\n",
    "i = 1\n",
    "while i <= pyramid_size:\n",
    "    spacing = pyramid_size - i\n",
    "    print(\" \" * spacing + \"#\" * (i*2))\n",
    "    i += 1"
   ],
   "id": "f02aead18a5af19b",
   "outputs": [
    {
     "name": "stdout",
     "output_type": "stream",
     "text": [
      "        ##\n",
      "       ####\n",
      "      ######\n",
      "     ########\n",
      "    ##########\n",
      "   ############\n",
      "  ##############\n",
      " ################\n",
      "##################\n"
     ]
    }
   ],
   "execution_count": 22
  },
  {
   "metadata": {
    "ExecuteTime": {
     "end_time": "2024-09-14T10:36:35.520033Z",
     "start_time": "2024-09-14T10:36:35.512692Z"
    }
   },
   "cell_type": "code",
   "source": [
    "sentence = 'There once lived a bee in a house by the sea.'\n",
    "index = 0\n",
    "while index < 10:\n",
    "    print(sentence[index], end='')\n",
    "    index += 1"
   ],
   "id": "a132f31bd1c791e9",
   "outputs": [
    {
     "name": "stdout",
     "output_type": "stream",
     "text": [
      "There once"
     ]
    }
   ],
   "execution_count": 23
  },
  {
   "metadata": {
    "ExecuteTime": {
     "end_time": "2024-09-14T10:41:33.100389Z",
     "start_time": "2024-09-14T10:41:33.091077Z"
    }
   },
   "cell_type": "code",
   "source": [
    "sentence = 'There once lived a bee in a house by the sea.'\n",
    "position = 0\n",
    "while position < len(sentence)-10:\n",
    "    index = position\n",
    "    while index < position+10:\n",
    "        print(sentence[index], end='')\n",
    "        index += 1\n",
    "    print()\n",
    "    position += 1"
   ],
   "id": "cd75f9bfcfe75347",
   "outputs": [
    {
     "name": "stdout",
     "output_type": "stream",
     "text": [
      "There once\n",
      "here once \n",
      "ere once l\n",
      "re once li\n",
      "e once liv\n",
      " once live\n",
      "once lived\n",
      "nce lived \n",
      "ce lived a\n",
      "e lived a \n",
      " lived a b\n",
      "lived a be\n",
      "ived a bee\n",
      "ved a bee \n",
      "ed a bee i\n",
      "d a bee in\n",
      " a bee in \n",
      "a bee in a\n",
      " bee in a \n",
      "bee in a h\n",
      "ee in a ho\n",
      "e in a hou\n",
      " in a hous\n",
      "in a house\n",
      "n a house \n",
      " a house b\n",
      "a house by\n",
      " house by \n",
      "house by t\n",
      "ouse by th\n",
      "use by the\n",
      "se by the \n",
      "e by the s\n",
      " by the se\n",
      "by the sea\n"
     ]
    }
   ],
   "execution_count": 24
  },
  {
   "metadata": {},
   "cell_type": "markdown",
   "source": "# **FOR LOOPS**",
   "id": "b3121d42369b92f2"
  },
  {
   "metadata": {
    "ExecuteTime": {
     "end_time": "2024-09-14T10:48:36.785398Z",
     "start_time": "2024-09-14T10:48:36.778981Z"
    }
   },
   "cell_type": "code",
   "source": [
    "print('before')   \n",
    "for i in range(1,5):    \n",
    "    print('hi')   \n",
    "    print('i variable is: ' + str(i))\n",
    "print('after')"
   ],
   "id": "76896ce5c9a3b68c",
   "outputs": [
    {
     "name": "stdout",
     "output_type": "stream",
     "text": [
      "before\n",
      "hi\n",
      "i variable is: 1\n",
      "hi\n",
      "i variable is: 2\n",
      "hi\n",
      "i variable is: 3\n",
      "hi\n",
      "i variable is: 4\n",
      "after\n"
     ]
    }
   ],
   "execution_count": 25
  },
  {
   "metadata": {},
   "cell_type": "markdown",
   "source": "# **Combining If-Statements and Loops**",
   "id": "203ba6ab8c329c82"
  },
  {
   "metadata": {
    "ExecuteTime": {
     "end_time": "2024-09-14T11:01:24.576954Z",
     "start_time": "2024-09-14T11:01:09.005122Z"
    }
   },
   "cell_type": "code",
   "source": [
    "text = input('Type some text and then press ENTER: ')\n",
    "uppercase_count = 0\n",
    "lowercase_count = 0\n",
    "for index in range(0, len(text)):\n",
    "    char = text[index]\n",
    "    if char.isupper():\n",
    "        uppercase_count += 1\n",
    "    elif char.islower():\n",
    "        lowercase_count += 1\n",
    "print(\"Number of upper-case letters:\", uppercase_count)\n",
    "print(\"Number of lower-case letters:\", lowercase_count)"
   ],
   "id": "bc39ef90c274fbe7",
   "outputs": [
    {
     "name": "stdout",
     "output_type": "stream",
     "text": [
      "Number of upper-case letters: 2\n",
      "Number of lower-case letters: 11\n"
     ]
    }
   ],
   "execution_count": 26
  },
  {
   "metadata": {
    "ExecuteTime": {
     "end_time": "2024-09-14T11:03:30.007439Z",
     "start_time": "2024-09-14T11:03:17.540961Z"
    }
   },
   "cell_type": "code",
   "source": [
    "start = int(input('What value should we start at? '))\n",
    "end = int(input('What value should we end at? '))\n",
    "divide = int(input('What number to check divisibility for? '))\n",
    "number = start\n",
    "while number <= end:\n",
    "    if number % divide == 0:\n",
    "        print(number, 'is divisible by', divide)\n",
    "    number += 1"
   ],
   "id": "833911cf82bb9c34",
   "outputs": [
    {
     "name": "stdout",
     "output_type": "stream",
     "text": [
      "7 is divisible by 7\n",
      "14 is divisible by 7\n",
      "21 is divisible by 7\n",
      "28 is divisible by 7\n",
      "35 is divisible by 7\n",
      "42 is divisible by 7\n",
      "49 is divisible by 7\n",
      "56 is divisible by 7\n",
      "63 is divisible by 7\n",
      "70 is divisible by 7\n"
     ]
    }
   ],
   "execution_count": 27
  },
  {
   "metadata": {},
   "cell_type": "markdown",
   "source": "",
   "id": "1d7d77b3e6e9933e"
  }
 ],
 "metadata": {
  "kernelspec": {
   "display_name": "Python 3",
   "language": "python",
   "name": "python3"
  },
  "language_info": {
   "codemirror_mode": {
    "name": "ipython",
    "version": 2
   },
   "file_extension": ".py",
   "mimetype": "text/x-python",
   "name": "python",
   "nbconvert_exporter": "python",
   "pygments_lexer": "ipython2",
   "version": "2.7.6"
  }
 },
 "nbformat": 4,
 "nbformat_minor": 5
}
