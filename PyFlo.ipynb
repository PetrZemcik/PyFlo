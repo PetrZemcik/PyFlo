{
 "cells": [
  {
   "metadata": {},
   "cell_type": "markdown",
   "source": "INTEGERS",
   "id": "9ef1d77e02253629"
  },
  {
   "cell_type": "code",
   "id": "initial_id",
   "metadata": {
    "collapsed": true
   },
   "source": [
    "name = 'Pierre'\n",
    "email = 'pierre@gmail.com'\n",
    "age = 50\n",
    "height = 72"
   ],
   "outputs": [],
   "execution_count": null
  },
  {
   "metadata": {
    "ExecuteTime": {
     "end_time": "2024-09-13T19:30:44.038101Z",
     "start_time": "2024-09-13T19:30:44.025780Z"
    }
   },
   "cell_type": "code",
   "source": [
    "print('His name is ' + name)\n",
    "print(name + ' can be contacted at ' + email)\n",
    "print('He is ' +str(age) + ' years old and is ' + str(height) + ' inches tall')"
   ],
   "id": "3f1ef86e2d27f4bb",
   "outputs": [
    {
     "name": "stdout",
     "output_type": "stream",
     "text": [
      "His name is Pierre\n",
      "Pierre can be contacted at pierre@gmail.com\n",
      "He is 50 years old and is 72 inches tall\n"
     ]
    }
   ],
   "execution_count": 3
  },
  {
   "metadata": {},
   "cell_type": "markdown",
   "source": "STRING MULTIPLICATION",
   "id": "13844fe1d983700d"
  },
  {
   "metadata": {
    "ExecuteTime": {
     "end_time": "2024-09-13T19:35:49.464950Z",
     "start_time": "2024-09-13T19:35:42.343021Z"
    }
   },
   "cell_type": "code",
   "source": [
    "revenue = int(input('Business revenue: '))\n",
    "cost = int(input('Business costs: '))\n",
    "profit = revenue - cost\n",
    "print('The business profit is: ' + str(profit))"
   ],
   "id": "6a84e8e4a1a96d9b",
   "outputs": [
    {
     "name": "stdout",
     "output_type": "stream",
     "text": [
      "The business profit is: 25\n"
     ]
    }
   ],
   "execution_count": 5
  },
  {
   "metadata": {
    "ExecuteTime": {
     "end_time": "2024-09-13T19:36:55.532790Z",
     "start_time": "2024-09-13T19:36:55.517142Z"
    }
   },
   "cell_type": "code",
   "source": [
    "x = 'Z' * 20\n",
    "print(x)"
   ],
   "id": "950a52f6a26f15c7",
   "outputs": [
    {
     "name": "stdout",
     "output_type": "stream",
     "text": [
      "ZZZZZZZZZZZZZZZZZZZZ\n"
     ]
    }
   ],
   "execution_count": 6
  },
  {
   "metadata": {
    "ExecuteTime": {
     "end_time": "2024-09-13T19:38:35.234672Z",
     "start_time": "2024-09-13T19:38:24.358679Z"
    }
   },
   "cell_type": "code",
   "source": [
    "revenue = int(input('Business revenue: '))\n",
    "cost = int(input('Business costs: '))\n",
    "profit = revenue - cost\n",
    "print('The business profit is: ' + str(profit))\n",
    "cost_bar = '#' * cost\n",
    "profit_bar = '#' * profit\n",
    "print('  cost: ' + cost_bar)\n",
    "print('profit: ' + profit_bar)"
   ],
   "id": "44b797b2ca8a2a39",
   "outputs": [
    {
     "name": "stdout",
     "output_type": "stream",
     "text": [
      "The business profit is: 25\n",
      "  cost: ###########################################################################\n",
      "profit: #########################\n"
     ]
    }
   ],
   "execution_count": 7
  },
  {
   "metadata": {
    "ExecuteTime": {
     "end_time": "2024-09-13T20:18:35.768952Z",
     "start_time": "2024-09-13T20:17:58.272980Z"
    }
   },
   "cell_type": "code",
   "source": [
    "revenue = int(input('Business revenue: '))\n",
    "cost = int(input('Business costs: '))\n",
    "profit = revenue - cost\n",
    "print('The business profit is: ' + str(profit))\n",
    "cost_bar = '#' * int((cost / revenue) * 25)\n",
    "profit_bar = '#' * int((profit / revenue) * 25)\n",
    "print('  cost: ' + cost_bar)\n",
    "print('profit: ' + profit_bar)"
   ],
   "id": "eed50a53d8342ea8",
   "outputs": [
    {
     "name": "stdout",
     "output_type": "stream",
     "text": [
      "The business profit is: 250\n",
      "  cost: #########\n",
      "profit: ###############\n"
     ]
    }
   ],
   "execution_count": 9
  },
  {
   "metadata": {},
   "cell_type": "markdown",
   "source": "STRING INDEXING",
   "id": "1cb2605427a5445f"
  },
  {
   "metadata": {
    "ExecuteTime": {
     "end_time": "2024-09-13T20:23:57.883081Z",
     "start_time": "2024-09-13T20:23:57.877978Z"
    }
   },
   "cell_type": "code",
   "source": [
    "city = 'Jerusalem'\n",
    "letter = city[4]\n",
    "print(letter)"
   ],
   "id": "f46bb77ed06b74ab",
   "outputs": [
    {
     "name": "stdout",
     "output_type": "stream",
     "text": [
      "s\n"
     ]
    }
   ],
   "execution_count": 10
  },
  {
   "metadata": {
    "ExecuteTime": {
     "end_time": "2024-09-13T20:24:37.787983Z",
     "start_time": "2024-09-13T20:24:37.777685Z"
    }
   },
   "cell_type": "code",
   "source": [
    "city = 'Jerusalem.'\n",
    "rock = city[0] + city[1] + city[8]\n",
    "print(rock)"
   ],
   "id": "72bbda82dd7384d3",
   "outputs": [
    {
     "name": "stdout",
     "output_type": "stream",
     "text": [
      "Jem\n"
     ]
    }
   ],
   "execution_count": 11
  },
  {
   "metadata": {
    "ExecuteTime": {
     "end_time": "2024-09-13T20:28:12.753139Z",
     "start_time": "2024-09-13T20:28:12.744187Z"
    }
   },
   "cell_type": "code",
   "source": [
    "city = 'Jerusalem'\n",
    "rock = city[-9] + city[-8] + city[-1]\n",
    "print(rock)"
   ],
   "id": "c8c1dc6f4350bcb3",
   "outputs": [
    {
     "name": "stdout",
     "output_type": "stream",
     "text": [
      "Jem\n"
     ]
    }
   ],
   "execution_count": 12
  },
  {
   "metadata": {
    "ExecuteTime": {
     "end_time": "2024-09-13T20:31:09.167995Z",
     "start_time": "2024-09-13T20:30:54.204097Z"
    }
   },
   "cell_type": "code",
   "source": [
    "text = input('Type something: ')\n",
    "print('The last two characters of your input were: ' + text[-2] + text[-1])"
   ],
   "id": "5de8494ae729df0f",
   "outputs": [
    {
     "name": "stdout",
     "output_type": "stream",
     "text": [
      "The last two characters of your input were: d!\n"
     ]
    }
   ],
   "execution_count": 13
  },
  {
   "metadata": {},
   "cell_type": "markdown",
   "source": "",
   "id": "e5c43f99889018fd"
  },
  {
   "metadata": {
    "ExecuteTime": {
     "end_time": "2024-09-13T20:37:36.302145Z",
     "start_time": "2024-09-13T20:37:28.559747Z"
    }
   },
   "cell_type": "code",
   "source": [
    "text = input('Type something: ')\n",
    "print('len(text):'+ str(len(text)))\n",
    "last = text[len(text) - 1]\n",
    "print(last)\n",
    "other = text[len(text) - 2]\n",
    "print(other)\n",
    "print('The last two characters of your input were: ' + other + last)"
   ],
   "id": "718ae51a35caeb65",
   "outputs": [
    {
     "name": "stdout",
     "output_type": "stream",
     "text": [
      "len(text):12\n",
      "!\n",
      "d\n",
      "The last two characters of your input were: d!\n"
     ]
    }
   ],
   "execution_count": 15
  },
  {
   "metadata": {},
   "cell_type": "markdown",
   "source": "# **MATH**",
   "id": "964367113c3d0b05"
  },
  {
   "metadata": {},
   "cell_type": "markdown",
   "source": "",
   "id": "7d8c7d135f13048c"
  },
  {
   "metadata": {},
   "cell_type": "markdown",
   "source": [
    "A + B adds two numbers together  \n",
    "A - B subtracts the value B from A  \n",
    "A / B divides A by the value B  \n",
    "A * B multiplies A by b  \n",
    "A ** B raises A to the Bth power  \n",
    "A % B gives the remainder of the operation of dividing A by B  \n",
    "\n",
    "\n",
    "\n"
   ],
   "id": "4d98a6341652a8ff"
  },
  {
   "metadata": {
    "ExecuteTime": {
     "end_time": "2024-09-13T20:48:50.622684Z",
     "start_time": "2024-09-13T20:48:50.615430Z"
    }
   },
   "cell_type": "code",
   "source": [
    "x = 100 + 20 * 2\n",
    "y = 200 - 100 / 2\n",
    "print(x, y)"
   ],
   "id": "49d37f49541e580a",
   "outputs": [
    {
     "name": "stdout",
     "output_type": "stream",
     "text": [
      "140 150.0\n"
     ]
    }
   ],
   "execution_count": 16
  },
  {
   "metadata": {
    "ExecuteTime": {
     "end_time": "2024-09-13T20:51:29.251803Z",
     "start_time": "2024-09-13T20:51:29.244192Z"
    }
   },
   "cell_type": "code",
   "source": [
    "x = (40 / 2 + (2 * 5 ** 3))\n",
    "print(x)"
   ],
   "id": "851476af48e57243",
   "outputs": [
    {
     "name": "stdout",
     "output_type": "stream",
     "text": [
      "270.0\n"
     ]
    }
   ],
   "execution_count": 17
  },
  {
   "metadata": {
    "ExecuteTime": {
     "end_time": "2024-09-13T20:52:28.464347Z",
     "start_time": "2024-09-13T20:52:28.448994Z"
    }
   },
   "cell_type": "code",
   "source": [
    "x = 100 + 100\n",
    "y = 100 / 2\n",
    "print( type(x) )\n",
    "print( type(y) )"
   ],
   "id": "4ed1482f6bc5b4bb",
   "outputs": [
    {
     "name": "stdout",
     "output_type": "stream",
     "text": [
      "<class 'int'>\n",
      "<class 'float'>\n"
     ]
    }
   ],
   "execution_count": 18
  },
  {
   "metadata": {
    "ExecuteTime": {
     "end_time": "2024-09-13T20:54:52.082252Z",
     "start_time": "2024-09-13T20:54:52.064246Z"
    }
   },
   "cell_type": "code",
   "source": [
    "count = 100\n",
    "pi = 3.14\n",
    "print( type(count) )\n",
    "print( type(pi) )"
   ],
   "id": "28f5c1ed3ffce686",
   "outputs": [
    {
     "name": "stdout",
     "output_type": "stream",
     "text": [
      "<class 'int'>\n",
      "<class 'float'>\n"
     ]
    }
   ],
   "execution_count": 19
  },
  {
   "metadata": {
    "ExecuteTime": {
     "end_time": "2024-09-13T20:58:32.365589Z",
     "start_time": "2024-09-13T20:58:21.350490Z"
    }
   },
   "cell_type": "code",
   "source": [
    "revenue = int(input('Business revenue: '))\n",
    "cost = int(input('Business costs: '))\n",
    "profit = revenue - cost\n",
    "print('The business profit is: ' + str(profit))\n",
    "cost_bar = '#' * int((cost / revenue) * 25)\n",
    "profit_bar = '#' * int((profit / revenue) * 25)\n",
    "print('  cost: ' + cost_bar)\n",
    "print('profit: ' + profit_bar)"
   ],
   "id": "4aaf06cba7ed9aad",
   "outputs": [
    {
     "name": "stdout",
     "output_type": "stream",
     "text": [
      "The business profit is: 25\n",
      "  cost: ##################\n",
      "profit: ######\n"
     ]
    }
   ],
   "execution_count": 20
  },
  {
   "metadata": {
    "ExecuteTime": {
     "end_time": "2024-09-13T20:59:29.789080Z",
     "start_time": "2024-09-13T20:59:20.177838Z"
    }
   },
   "cell_type": "code",
   "source": [
    "revenue = int(input('Business revenue: '))\n",
    "cost = int(input('Business costs: '))\n",
    "profit = revenue - cost\n",
    "print('The business profit is: ' + str(profit))\n",
    "cost_bar = '#' * ((cost / revenue) * 25)\n",
    "profit_bar = '#' * ((profit / revenue) * 25)\n",
    "print('  cost: ' + cost_bar)\n",
    "print('profit: ' + profit_bar)"
   ],
   "id": "5b1dbcd71bfc0fd1",
   "outputs": [
    {
     "name": "stdout",
     "output_type": "stream",
     "text": [
      "The business profit is: 25\n"
     ]
    },
    {
     "ename": "TypeError",
     "evalue": "can't multiply sequence by non-int of type 'float'",
     "output_type": "error",
     "traceback": [
      "\u001B[1;31m---------------------------------------------------------------------------\u001B[0m",
      "\u001B[1;31mTypeError\u001B[0m                                 Traceback (most recent call last)",
      "Cell \u001B[1;32mIn[21], line 5\u001B[0m\n\u001B[0;32m      3\u001B[0m profit \u001B[38;5;241m=\u001B[39m revenue \u001B[38;5;241m-\u001B[39m cost\n\u001B[0;32m      4\u001B[0m \u001B[38;5;28mprint\u001B[39m(\u001B[38;5;124m'\u001B[39m\u001B[38;5;124mThe business profit is: \u001B[39m\u001B[38;5;124m'\u001B[39m \u001B[38;5;241m+\u001B[39m \u001B[38;5;28mstr\u001B[39m(profit))\n\u001B[1;32m----> 5\u001B[0m cost_bar \u001B[38;5;241m=\u001B[39m \u001B[38;5;124;43m'\u001B[39;49m\u001B[38;5;124;43m#\u001B[39;49m\u001B[38;5;124;43m'\u001B[39;49m\u001B[43m \u001B[49m\u001B[38;5;241;43m*\u001B[39;49m\u001B[43m \u001B[49m\u001B[43m(\u001B[49m\u001B[43m(\u001B[49m\u001B[43mcost\u001B[49m\u001B[43m \u001B[49m\u001B[38;5;241;43m/\u001B[39;49m\u001B[43m \u001B[49m\u001B[43mrevenue\u001B[49m\u001B[43m)\u001B[49m\u001B[43m \u001B[49m\u001B[38;5;241;43m*\u001B[39;49m\u001B[43m \u001B[49m\u001B[38;5;241;43m25\u001B[39;49m\u001B[43m)\u001B[49m\n\u001B[0;32m      6\u001B[0m profit_bar \u001B[38;5;241m=\u001B[39m \u001B[38;5;124m'\u001B[39m\u001B[38;5;124m#\u001B[39m\u001B[38;5;124m'\u001B[39m \u001B[38;5;241m*\u001B[39m ((profit \u001B[38;5;241m/\u001B[39m revenue) \u001B[38;5;241m*\u001B[39m \u001B[38;5;241m25\u001B[39m)\n\u001B[0;32m      7\u001B[0m \u001B[38;5;28mprint\u001B[39m(\u001B[38;5;124m'\u001B[39m\u001B[38;5;124m  cost: \u001B[39m\u001B[38;5;124m'\u001B[39m \u001B[38;5;241m+\u001B[39m cost_bar)\n",
      "\u001B[1;31mTypeError\u001B[0m: can't multiply sequence by non-int of type 'float'"
     ]
    }
   ],
   "execution_count": 21
  },
  {
   "metadata": {},
   "cell_type": "markdown",
   "source": "# **BOOLEANS AND BOOLEAN EXPRESSIONS**",
   "id": "62ea967050b1c442"
  },
  {
   "metadata": {
    "ExecuteTime": {
     "end_time": "2024-09-13T21:05:51.779594Z",
     "start_time": "2024-09-13T21:05:51.768856Z"
    }
   },
   "cell_type": "code",
   "source": [
    "the_sky_is_blue = True\n",
    "food_is_bad = False\n",
    "print(the_sky_is_blue, food_is_bad)"
   ],
   "id": "7126c15f457945b6",
   "outputs": [
    {
     "name": "stdout",
     "output_type": "stream",
     "text": [
      "True False\n"
     ]
    }
   ],
   "execution_count": 22
  },
  {
   "metadata": {
    "ExecuteTime": {
     "end_time": "2024-09-13T21:08:03.429192Z",
     "start_time": "2024-09-13T21:08:03.424406Z"
    }
   },
   "cell_type": "code",
   "source": [
    "# Mathematical expressions\n",
    "x = 5 * 7 + 2\n",
    "print('x =', x)\n",
    "print(type(x))\n",
    "y = 100 / 2 ** 3\n",
    "print('y =', y)\n",
    "print(type(y))"
   ],
   "id": "406caed26cee2a3d",
   "outputs": [
    {
     "name": "stdout",
     "output_type": "stream",
     "text": [
      "x = 37\n",
      "<class 'int'>\n",
      "y = 12.5\n",
      "<class 'float'>\n"
     ]
    }
   ],
   "execution_count": 24
  },
  {
   "metadata": {
    "ExecuteTime": {
     "end_time": "2024-09-13T21:11:01.542601Z",
     "start_time": "2024-09-13T21:11:01.528446Z"
    }
   },
   "cell_type": "code",
   "source": [
    "# Boolean expressions\n",
    "enough_money = 1000 > 100\n",
    "print('enough_money:', enough_money)\n",
    "print(type(enough_money))\n",
    "do_the_names_match = 'Ryan' == 'Rich'\n",
    "print('do_the_names_match:', do_the_names_match)\n",
    "print(type(do_the_names_match))"
   ],
   "id": "829d513396f11c1b",
   "outputs": [
    {
     "name": "stdout",
     "output_type": "stream",
     "text": [
      "enough_money: True\n",
      "<class 'bool'>\n",
      "do_the_names_match: False\n",
      "<class 'bool'>\n"
     ]
    }
   ],
   "execution_count": 25
  },
  {
   "metadata": {
    "ExecuteTime": {
     "end_time": "2024-09-13T21:14:20.476555Z",
     "start_time": "2024-09-13T21:14:04.596498Z"
    }
   },
   "cell_type": "code",
   "source": [
    "home_cost = int(input('How much does the home cost? '))\n",
    "available_funds = int(input('How much money do you have immediately available? '))\n",
    "down_payment = home_cost * 0.2\n",
    "if available_funds >= down_payment:\n",
    "    print('You can afford the down payment!')"
   ],
   "id": "7ad8a5cd57193599",
   "outputs": [
    {
     "name": "stdout",
     "output_type": "stream",
     "text": [
      "You can afford the down payment!\n"
     ]
    }
   ],
   "execution_count": 26
  },
  {
   "metadata": {
    "ExecuteTime": {
     "end_time": "2024-09-13T21:15:41.684822Z",
     "start_time": "2024-09-13T21:15:37.592191Z"
    }
   },
   "cell_type": "code",
   "source": [
    "name = input('What is your name? ')\n",
    "if name == 'Bob':\n",
    "    print('Great! your name is Bob!')"
   ],
   "id": "971e3fa41432ebb0",
   "outputs": [
    {
     "name": "stdout",
     "output_type": "stream",
     "text": [
      "Great! your name is Bob!\n"
     ]
    }
   ],
   "execution_count": 28
  }
 ],
 "metadata": {
  "kernelspec": {
   "display_name": "Python 3",
   "language": "python",
   "name": "python3"
  },
  "language_info": {
   "codemirror_mode": {
    "name": "ipython",
    "version": 2
   },
   "file_extension": ".py",
   "mimetype": "text/x-python",
   "name": "python",
   "nbconvert_exporter": "python",
   "pygments_lexer": "ipython2",
   "version": "2.7.6"
  }
 },
 "nbformat": 4,
 "nbformat_minor": 5
}
