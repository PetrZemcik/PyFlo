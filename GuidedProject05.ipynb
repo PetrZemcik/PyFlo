{
 "cells": [
  {
   "cell_type": "code",
   "id": "initial_id",
   "metadata": {
    "collapsed": true,
    "ExecuteTime": {
     "end_time": "2024-09-23T12:26:13.529670Z",
     "start_time": "2024-09-23T12:26:13.522133Z"
    }
   },
   "source": [
    "# This code creates the quiz.txt file for you to test with.\n",
    "# You can change what gets written to test various scenarios!\n",
    "f = open('quiz.txt', 'w')\n",
    "f.write('what color is the sky?|||blue\\nhow many years did it take to build the panama canal?|||10\\nwhat is the term length in years for POTUS?|||4\\nWhat color are the leaves of most plants?|||green\\n')\n",
    "f.close()\n",
    "\n"
   ],
   "outputs": [],
   "execution_count": 1
  },
  {
   "metadata": {},
   "cell_type": "code",
   "outputs": [],
   "execution_count": null,
   "source": [
    "def load_questions_and_answers(file_name):\n",
    "    # Put your code here!\n",
    "    pass"
   ],
   "id": "eb9be6d691997de2"
  }
 ],
 "metadata": {
  "kernelspec": {
   "display_name": "Python 3",
   "language": "python",
   "name": "python3"
  },
  "language_info": {
   "codemirror_mode": {
    "name": "ipython",
    "version": 2
   },
   "file_extension": ".py",
   "mimetype": "text/x-python",
   "name": "python",
   "nbconvert_exporter": "python",
   "pygments_lexer": "ipython2",
   "version": "2.7.6"
  }
 },
 "nbformat": 4,
 "nbformat_minor": 5
}
