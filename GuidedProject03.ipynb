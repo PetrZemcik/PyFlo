{
 "cells": [
  {
   "metadata": {},
   "cell_type": "markdown",
   "source": "# **CHARACTER CREATOR**",
   "id": "7da604707e10a432"
  },
  {
   "metadata": {
    "ExecuteTime": {
     "end_time": "2024-09-15T11:52:43.150333Z",
     "start_time": "2024-09-15T11:52:43.137949Z"
    }
   },
   "cell_type": "code",
   "source": [
    "def print_head(hair,eye):\n",
    "    print(12*hair)\n",
    "    print(hair+'|'+8*' '+ '|'+hair)\n",
    "    print(hair+'|'+2*' '+eye+2*' '+eye+2*' '+ '|'+hair)\n",
    "    print(' '+'|'+3*' '+'/'+\"\\\\\"+3*' '+ '|')\n",
    "    print(' '+'|'+8*' '+ '|')\n",
    "    print(' '+'\\\\'+2*' '+\"'__'\"+2*' ' +'/')\n",
    "    print(3*' '+6*'_')\n",
    "    \n",
    "hair='M'\n",
    "eye='0'\n",
    "print_head(hair,eye)"
   ],
   "id": "c3f74869b6b40677",
   "outputs": [
    {
     "name": "stdout",
     "output_type": "stream",
     "text": [
      "MMMMMMMMMMMM\n",
      "M|        |M\n",
      "M|  0  0  |M\n",
      " |   /\\   |\n",
      " |        |\n",
      " \\  '__'  /\n",
      "   ______\n"
     ]
    }
   ],
   "execution_count": 23
  },
  {
   "metadata": {
    "ExecuteTime": {
     "end_time": "2024-09-15T11:52:48.190942Z",
     "start_time": "2024-09-15T11:52:48.182737Z"
    }
   },
   "cell_type": "code",
   "source": [
    "def print_body(height,arm):\n",
    "    print(5*' '+'XX')\n",
    "    print('#'+4*arm+'XX'+4*arm+'#')\n",
    "    for i in range(height):\n",
    "        print(4*' '+4*'X')\n",
    "\n",
    "height=2\n",
    "arm='-'\n",
    "print_body(height,arm)\n",
    "    "
   ],
   "id": "8cae399312c1d949",
   "outputs": [
    {
     "name": "stdout",
     "output_type": "stream",
     "text": [
      "     XX\n",
      "#----XX----#\n",
      "    XXXX\n",
      "    XXXX\n"
     ]
    }
   ],
   "execution_count": 24
  },
  {
   "metadata": {
    "ExecuteTime": {
     "end_time": "2024-09-15T12:08:25.402633Z",
     "start_time": "2024-09-15T12:08:25.396971Z"
    }
   },
   "cell_type": "code",
   "source": [
    "def reverse_shoe(shoe_string):\n",
    "    reverse=shoe_string[::-1]\n",
    "    return reverse\n",
    "    \n",
    "shoe_string='WXYZ'\n",
    "shoe_string_reverse=reverse_shoe(shoe_string)\n",
    "print(shoe_string_reverse)"
   ],
   "id": "61433ad0c1f66977",
   "outputs": [
    {
     "name": "stdout",
     "output_type": "stream",
     "text": [
      "ZYXW\n"
     ]
    }
   ],
   "execution_count": 27
  },
  {
   "metadata": {
    "ExecuteTime": {
     "end_time": "2024-09-15T12:15:26.678282Z",
     "start_time": "2024-09-15T12:15:26.671488Z"
    }
   },
   "cell_type": "code",
   "source": [
    "def print_legs(height,shoe):\n",
    "    shoe_string=shoe\n",
    "    shoe_string_reverse=reverse_shoe(shoe_string)\n",
    "    print(4*' '+'====')\n",
    "    for i in range(height):\n",
    "        print('   '+'||'+2*' '+'||')\n",
    "    print(' '+shoe_string+'  '+shoe_string_reverse)\n",
    "    \n",
    "height=2\n",
    "shoe='WXYZ'\n",
    "print_legs(height,shoe)"
   ],
   "id": "9c4dbac6b440a30f",
   "outputs": [
    {
     "name": "stdout",
     "output_type": "stream",
     "text": [
      "    ====\n",
      "   ||  ||\n",
      "   ||  ||\n",
      " WXYZ  ZYXW\n"
     ]
    }
   ],
   "execution_count": 32
  },
  {
   "metadata": {
    "ExecuteTime": {
     "end_time": "2024-09-15T12:16:44.907690Z",
     "start_time": "2024-09-15T12:16:44.895276Z"
    }
   },
   "cell_type": "code",
   "source": [
    "def main():\n",
    "    hair='M'\n",
    "    eye='0'\n",
    "    height=2\n",
    "    arm='-'\n",
    "    shoe='WXYZ'\n",
    "    print_head(hair,eye)\n",
    "    print_body(height,arm)\n",
    "    print_legs(height,shoe)"
   ],
   "id": "29a2d4e051b7a4f8",
   "outputs": [],
   "execution_count": 33
  },
  {
   "metadata": {
    "ExecuteTime": {
     "end_time": "2024-09-15T12:16:51.195319Z",
     "start_time": "2024-09-15T12:16:51.186489Z"
    }
   },
   "cell_type": "code",
   "source": "main()",
   "id": "1f8f0cf02f693f56",
   "outputs": [
    {
     "name": "stdout",
     "output_type": "stream",
     "text": [
      "MMMMMMMMMMMM\n",
      "M|        |M\n",
      "M|  0  0  |M\n",
      " |   /\\   |\n",
      " |        |\n",
      " \\  '__'  /\n",
      "   ______\n",
      "     XX\n",
      "#----XX----#\n",
      "    XXXX\n",
      "    XXXX\n",
      "    ====\n",
      "   ||  ||\n",
      "   ||  ||\n",
      " WXYZ  ZYXW\n"
     ]
    }
   ],
   "execution_count": 34
  }
 ],
 "metadata": {
  "kernelspec": {
   "display_name": "Python 3",
   "language": "python",
   "name": "python3"
  },
  "language_info": {
   "codemirror_mode": {
    "name": "ipython",
    "version": 2
   },
   "file_extension": ".py",
   "mimetype": "text/x-python",
   "name": "python",
   "nbconvert_exporter": "python",
   "pygments_lexer": "ipython2",
   "version": "2.7.6"
  }
 },
 "nbformat": 4,
 "nbformat_minor": 5
}
