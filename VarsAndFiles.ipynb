{
 "cells": [
  {
   "metadata": {},
   "cell_type": "markdown",
   "source": "# ** Variables and Files **",
   "id": "fd4b778ffabb0356"
  },
  {
   "metadata": {},
   "cell_type": "markdown",
   "source": "### **Variable Scope**",
   "id": "670d086bb62f52e0"
  },
  {
   "metadata": {},
   "cell_type": "code",
   "source": [
    "from nbformat.v4 import output_from_msg\n",
    "\n",
    "name = 'PLACEHOLDER'\n",
    "\n",
    "def capitalize_name():\n",
    "    name = input('What is your name? ')\n",
    "    first_letter = name[0]\n",
    "    after_first = name[1:]\n",
    "    name = first_letter.upper() + after_first.lower()\n",
    "\n",
    "capitalize_name()\n",
    "print('Hi there', name)"
   ],
   "id": "46745f10e864f033",
   "outputs": [],
   "execution_count": null
  },
  {
   "metadata": {},
   "cell_type": "code",
   "source": [
    "def capitalize_name(name_to_process):\n",
    "    first_letter = name_to_process[0]\n",
    "    after_first = name_to_process[1:]\n",
    "    cap_name = first_letter.upper() + after_first.lower()\n",
    "    return cap_name\n",
    "\n",
    "name = input('Type your name: ')\n",
    "corrected_name=capitalize_name(name)\n",
    "print('Hi there', corrected_name)"
   ],
   "id": "1f7374db288dd9a4",
   "outputs": [],
   "execution_count": null
  },
  {
   "metadata": {},
   "cell_type": "code",
   "source": [
    "name = input('Type your name: ')\n",
    "\n",
    "def capitalize_name():\n",
    "    first_letter = name[0]\n",
    "    after_first = name[1:]\n",
    "    name = first_letter.upper() + after_first.lower()\n",
    "\n",
    "capitalize_name()\n",
    "print('Hi there', name)"
   ],
   "id": "288c95099020ac93",
   "outputs": [],
   "execution_count": null
  },
  {
   "metadata": {},
   "cell_type": "code",
   "source": [
    "name = input('Type your name: ')\n",
    "\n",
    "def capitalize_name():\n",
    "    global name\n",
    "    first_letter = name[0]\n",
    "    after_first = name[1:]\n",
    "    name = first_letter.upper() + after_first.lower()\n",
    "\n",
    "capitalize_name()\n",
    "print('Hi there', name)"
   ],
   "id": "f52526feb36da3f6",
   "outputs": [],
   "execution_count": null
  },
  {
   "metadata": {},
   "cell_type": "markdown",
   "source": "### **Constant Values**",
   "id": "622887d1251ad44d"
  },
  {
   "metadata": {},
   "cell_type": "code",
   "source": [
    "DAYS_PER_WEEK = 7\n",
    "WEEKS_IN_YEAR = 52\n",
    "DAYS_PER_MONTH = 30 # Approximation :)\n",
    "MONTHS_IN_YEAR = 12\n",
    "\n",
    "def print_week(days_passed):\n",
    "    week_number = int(days_passed / DAYS_PER_WEEK)\n",
    "    print('We are in week', week_number, 'out of', WEEKS_IN_YEAR, 'total.')\n",
    "\n",
    "def print_day_week_month(days_passed):\n",
    "    week_number = int(days_passed / DAYS_PER_WEEK)\n",
    "    month_number = int(days_passed / DAYS_PER_MONTH)\n",
    "    print('Day:', days_passed)\n",
    "    print('Week', week_number, 'of', WEEKS_IN_YEAR)\n",
    "    print('Month', month_number, 'of', MONTHS_IN_YEAR)"
   ],
   "id": "ceb456c848baa326",
   "outputs": [],
   "execution_count": null
  },
  {
   "metadata": {},
   "cell_type": "markdown",
   "source": "### **Random Values**",
   "id": "1abcc8ff90aebe8d"
  },
  {
   "metadata": {},
   "cell_type": "code",
   "source": "import random",
   "id": "22360408d4f239f8",
   "outputs": [],
   "execution_count": null
  },
  {
   "metadata": {},
   "cell_type": "code",
   "source": [
    "def roll_die():\n",
    "    print('ROLLING DIE')\n",
    "    result = random.randint(1, 6)\n",
    "    print('DIE:', result)\n",
    "    \n",
    "roll_die()"
   ],
   "id": "195a9ede67f5d54",
   "outputs": [],
   "execution_count": null
  },
  {
   "metadata": {},
   "cell_type": "code",
   "source": [
    "def get_random_human_height():\n",
    "    height = random.uniform(1.4, 2.2)\n",
    "    # Rounding to two decimal places is sufficient detail\n",
    "    return round(height, 2)\n",
    "\n",
    "print('Height:', get_random_human_height())"
   ],
   "id": "94252a1bb314a09d",
   "outputs": [],
   "execution_count": null
  },
  {
   "metadata": {},
   "cell_type": "markdown",
   "source": "### **Rock, Paper, Scissors**",
   "id": "19a301f24e7f2559"
  },
  {
   "metadata": {},
   "cell_type": "code",
   "source": [
    "def get_computer_rps():\n",
    "    random_int = random.randint(1,3)\n",
    "    if random_int == 1:\n",
    "        return 'ROCK'\n",
    "    if random_int == 2:\n",
    "        return 'PAPER'\n",
    "    return 'SCISSORS'\n",
    "\n",
    "def get_user_rps():\n",
    "    selection = input('Enter ROCK, PAPER, or SCISSORS: ')\n",
    "    while selection != 'ROCK' and selection != 'PAPER' and selection != 'SCISSORS':\n",
    "       selection = input('Invalid selection. Enter ROCK, PAPER, or SCISSORS: ')\n",
    "    return selection\n",
    "\n",
    "def result_check(user, computer):\n",
    "    if user == computer:\n",
    "        print('TIE')\n",
    "    elif ((user == 'PAPER' and computer == 'ROCK')    or \n",
    "         (user == 'ROCK' and computer == 'SCISSORS') or \n",
    "         (user == 'SCISSORS' and computer == 'PAPER')):\n",
    "        print('USER WON')\n",
    "    else:\n",
    "        print('COMPUTER WON')\n",
    "\n",
    "def main():\n",
    "    user_choice = get_user_rps()\n",
    "    print('User:', user_choice)\n",
    "    computer_choice = get_computer_rps()\n",
    "    print('Computer:', computer_choice)\n",
    "    result_check(user_choice, computer_choice)\n"
   ],
   "id": "c204fd374b17d15f",
   "outputs": [],
   "execution_count": null
  },
  {
   "metadata": {},
   "cell_type": "code",
   "source": "main()",
   "id": "63700e8ddd94a6f9",
   "outputs": [],
   "execution_count": null
  },
  {
   "metadata": {},
   "cell_type": "markdown",
   "source": "### **FILES**",
   "id": "81e300731be04079"
  },
  {
   "metadata": {},
   "cell_type": "code",
   "source": [
    "data_file = open('sales.txt', 'r')\n",
    "content = data_file.read()\n",
    "print(content)"
   ],
   "id": "db483b4196fb0a5d",
   "outputs": [],
   "execution_count": null
  },
  {
   "metadata": {},
   "cell_type": "code",
   "source": [
    "sales = open('sales.txt', 'r')\n",
    "\n",
    "# Make the loop repeat four times, because we have four items\n",
    "i = 0\n",
    "while i < 4:\n",
    "    line_from_file = sales.readline()\n",
    "    print(line_from_file)\n",
    "    # Here, do whatever you want with the line from the file\n",
    "    i += 1"
   ],
   "id": "d8835b6f40f190b6",
   "outputs": [],
   "execution_count": null
  },
  {
   "metadata": {},
   "cell_type": "code",
   "source": [
    "# This gives the index of the comma in the string, \n",
    "# which separates the name from the quantity\n",
    "index = line_from_file.index(',')\n",
    "print(index)\n",
    "# This gets just the product name\n",
    "product = line_from_file[:index]\n",
    "print(product)\n",
    "# This gets just the quantity and converts it to an integer\n",
    "quantity = int(line_from_file[index+1:])\n",
    "print(quantity)"
   ],
   "id": "2f8cef05214dff9",
   "outputs": [],
   "execution_count": null
  },
  {
   "metadata": {},
   "cell_type": "code",
   "source": "print( product.rjust(10) + ': ' + '#' * quantity)",
   "id": "b5b292313aacff4c",
   "outputs": [],
   "execution_count": null
  },
  {
   "metadata": {},
   "cell_type": "code",
   "source": [
    "sales = open('sales.txt', 'r')\n",
    "i = 0 \n",
    "while i < 4:\n",
    "    line_from_file = sales.readline()\n",
    "    index = line_from_file.index(',')\n",
    "    product = line_from_file[:index]\n",
    "    quantity = int(line_from_file[index+1:])\n",
    "    print( product.rjust(10) + ': ' + '#' * quantity)\n",
    "    i += 1"
   ],
   "id": "924ad78f62caa64b",
   "outputs": [],
   "execution_count": null
  },
  {
   "metadata": {},
   "cell_type": "code",
   "source": [
    "sales = open('sales.txt', 'r')\n",
    "for line in sales:\n",
    "    index    = line.index(',')\n",
    "    product  = line[:index]\n",
    "    quantity = int(line[index+1:])\n",
    "    print( product.rjust(10) + ': ' + '#' * quantity)"
   ],
   "id": "a810079965ef693d",
   "outputs": [],
   "execution_count": null
  },
  {
   "metadata": {},
   "cell_type": "code",
   "source": [
    "sales = open('sales.txt', 'r')\n",
    "for line in sales:\n",
    "    if ',' in line: # This is to avoid the last empty line(s)\n",
    "        index = line.index(',')\n",
    "        product = line[:index]\n",
    "        quantity = int(line[index+1:])\n",
    "        print(product.rjust(10) + ': ' + '#' * quantity)\n",
    "sales.close()"
   ],
   "id": "7d364e56476314ec",
   "outputs": [],
   "execution_count": null
  },
  {
   "metadata": {
    "ExecuteTime": {
     "end_time": "2024-09-16T17:28:40.940638Z",
     "start_time": "2024-09-16T17:28:40.935884Z"
    }
   },
   "cell_type": "code",
   "source": [
    "data_file2=open('output.txt', 'w')\n",
    "data_file2.write(\"PUT ME IN THE FILE\")\n",
    "data_file2.close()"
   ],
   "id": "32e29cb5f6292858",
   "outputs": [],
   "execution_count": 22
  },
  {
   "metadata": {
    "ExecuteTime": {
     "end_time": "2024-09-16T17:30:56.035966Z",
     "start_time": "2024-09-16T17:30:56.017676Z"
    }
   },
   "cell_type": "code",
   "source": [
    "data_file = open('output.txt', 'w')\n",
    "data_file.write(\"String A\")\n",
    "data_file.write(\"String B\")\n",
    "data_file.write(\"String C\")\n",
    "data_file.close()"
   ],
   "id": "cec86ff69bcb3475",
   "outputs": [],
   "execution_count": 23
  },
  {
   "metadata": {
    "ExecuteTime": {
     "end_time": "2024-09-16T17:41:15.382121Z",
     "start_time": "2024-09-16T17:40:45.265584Z"
    }
   },
   "cell_type": "code",
   "source": [
    "day = input('What is today\\'s date? ')\n",
    "file_name = day + '.txt'\n",
    "sales = open(day, 'w')\n",
    "\n",
    "count = int(input('How many products does the store sell? '))\n",
    "while count > 0:\n",
    "    # Collect information here\n",
    "    count -= 1\n",
    "    product = input('Product name: ')\n",
    "    quantity = input('Product sales quantity for the day: ')\n",
    "    sales.write(product + ',' + quantity + '\\n')\n",
    "\n",
    "sales.close()"
   ],
   "id": "635caa1ed83708ea",
   "outputs": [],
   "execution_count": 28
  }
 ],
 "metadata": {
  "kernelspec": {
   "display_name": "Python 3",
   "language": "python",
   "name": "python3"
  },
  "language_info": {
   "codemirror_mode": {
    "name": "ipython",
    "version": 2
   },
   "file_extension": ".py",
   "mimetype": "text/x-python",
   "name": "python",
   "nbconvert_exporter": "python",
   "pygments_lexer": "ipython2",
   "version": "2.7.6"
  }
 },
 "nbformat": 4,
 "nbformat_minor": 5
}
