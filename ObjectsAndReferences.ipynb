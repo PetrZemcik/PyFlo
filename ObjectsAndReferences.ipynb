{
 "cells": [
  {
   "metadata": {},
   "cell_type": "markdown",
   "source": "# **Objects and References**",
   "id": "10bdbf5503887a06"
  },
  {
   "metadata": {
    "ExecuteTime": {
     "end_time": "2024-09-23T11:59:30.448926Z",
     "start_time": "2024-09-23T11:59:30.437550Z"
    }
   },
   "cell_type": "code",
   "source": [
    "def process(x):\n",
    "    x += 's'\n",
    "    print(x)\n",
    "\n",
    "animal = 'giraffe'\n",
    "process(animal)"
   ],
   "id": "ba0f54ca1b3b98ba",
   "outputs": [
    {
     "name": "stdout",
     "output_type": "stream",
     "text": [
      "giraffes\n"
     ]
    }
   ],
   "execution_count": 1
  },
  {
   "metadata": {
    "ExecuteTime": {
     "end_time": "2024-09-23T12:06:47.732113Z",
     "start_time": "2024-09-23T12:06:47.723066Z"
    }
   },
   "cell_type": "code",
   "source": [
    "def process(x):\n",
    "    x.append('zebra')\n",
    "    print(x)\n",
    "\n",
    "animals = ['giraffe', 'lion']\n",
    "process(animals)\n",
    "print(animals)"
   ],
   "id": "d89a6170e69e237b",
   "outputs": [
    {
     "name": "stdout",
     "output_type": "stream",
     "text": [
      "['giraffe', 'lion', 'zebra']\n",
      "['giraffe', 'lion', 'zebra']\n"
     ]
    }
   ],
   "execution_count": 3
  },
  {
   "metadata": {
    "ExecuteTime": {
     "end_time": "2024-09-23T12:08:41.296747Z",
     "start_time": "2024-09-23T12:08:41.281994Z"
    }
   },
   "cell_type": "code",
   "source": [
    "def process(x):\n",
    "    print('ID A:', id(x))\n",
    "    x += 's'\n",
    "    print('ID B:', id(x))\n",
    "\n",
    "animal = 'giraffe'\n",
    "process(animal)\n",
    "print('ID C:', id(animal))"
   ],
   "id": "d8344622375ecfd6",
   "outputs": [
    {
     "name": "stdout",
     "output_type": "stream",
     "text": [
      "ID A: 1594023646464\n",
      "ID B: 1594031170096\n",
      "ID C: 1594023646464\n"
     ]
    }
   ],
   "execution_count": 4
  },
  {
   "metadata": {
    "ExecuteTime": {
     "end_time": "2024-09-23T12:10:36.059666Z",
     "start_time": "2024-09-23T12:10:36.041489Z"
    }
   },
   "cell_type": "code",
   "source": [
    "def process(x):\n",
    "    print('ID A:', id(x))\n",
    "    x.append('zebra')\n",
    "    print('ID B:', id(x))\n",
    "\n",
    "animals = ['giraffe', 'lion']\n",
    "process(animals)\n",
    "print('ID C:', id(animals))\n",
    "print(animals)"
   ],
   "id": "bebca48434fec804",
   "outputs": [
    {
     "name": "stdout",
     "output_type": "stream",
     "text": [
      "ID A: 1594031362944\n",
      "ID B: 1594031362944\n",
      "ID C: 1594031362944\n",
      "['giraffe', 'lion', 'zebra']\n"
     ]
    }
   ],
   "execution_count": 6
  }
 ],
 "metadata": {
  "kernelspec": {
   "display_name": "Python 3",
   "language": "python",
   "name": "python3"
  },
  "language_info": {
   "codemirror_mode": {
    "name": "ipython",
    "version": 2
   },
   "file_extension": ".py",
   "mimetype": "text/x-python",
   "name": "python",
   "nbconvert_exporter": "python",
   "pygments_lexer": "ipython2",
   "version": "2.7.6"
  }
 },
 "nbformat": 4,
 "nbformat_minor": 5
}
