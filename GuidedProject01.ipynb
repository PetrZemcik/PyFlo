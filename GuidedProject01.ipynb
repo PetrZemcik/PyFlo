{
 "cells": [
  {
   "metadata": {},
   "cell_type": "markdown",
   "source": "# **FLAG CREATOR**",
   "id": "86b87ea9232dbf0b"
  },
  {
   "metadata": {},
   "cell_type": "markdown",
   "source": "In this guided project, your task is to write a program that can print out flags that resemble the U.S. flag.",
   "id": "30a5a0ebca7aef31"
  },
  {
   "metadata": {
    "ExecuteTime": {
     "end_time": "2024-09-13T21:31:12.695910Z",
     "start_time": "2024-09-13T21:31:12.682599Z"
    }
   },
   "cell_type": "code",
   "source": [
    "print('#####-----')\n",
    "print('#####-----')\n",
    "print('----------')\n",
    "print('----------')"
   ],
   "id": "3448134ee25c0f6",
   "outputs": [
    {
     "name": "stdout",
     "output_type": "stream",
     "text": [
      "#####-----\n",
      "#####-----\n",
      "----------\n",
      "----------\n"
     ]
    }
   ],
   "execution_count": 1
  },
  {
   "metadata": {
    "ExecuteTime": {
     "end_time": "2024-09-13T21:43:59.427015Z",
     "start_time": "2024-09-13T21:43:56.667014Z"
    }
   },
   "cell_type": "code",
   "source": [
    "width=input('Flag width:\\n')\n",
    "width=int(width)\n",
    "width_bar1 = '#' * int(width/2) + '-' * int(width/2)\n",
    "width_bar2 = '-' * width \n",
    "print(width_bar1)\n",
    "print(width_bar1)\n",
    "print(width_bar2)\n",
    "print(width_bar2)"
   ],
   "id": "cc062a3dc5b92c94",
   "outputs": [
    {
     "name": "stdout",
     "output_type": "stream",
     "text": [
      "##--\n",
      "##--\n",
      "----\n",
      "----\n"
     ]
    }
   ],
   "execution_count": 8
  },
  {
   "metadata": {
    "ExecuteTime": {
     "end_time": "2024-09-13T22:09:26.402773Z",
     "start_time": "2024-09-13T22:09:16.921571Z"
    }
   },
   "cell_type": "code",
   "source": [
    "width = input(\"Flag width:\\n\")\n",
    "width = int(width)\n",
    "height = input(\"Flag height:\\n\")\n",
    "height = int(height)\n",
    "rows1 = '#' * int(width/2) + '-' * int(width/2) + \"\\n\"\n",
    "rows1=rows1 * int(height/2)\n",
    "rows2 = '-' * width + \"\\n\" \n",
    "rows2=rows2 * int(height/2)\n",
    "# print(rows1+rows2)\n",
    "print(rows1, end=\"\")\n",
    "print(rows2, end=\"\")"
   ],
   "id": "fe6509dc0544a853",
   "outputs": [
    {
     "name": "stdout",
     "output_type": "stream",
     "text": [
      "##########----------\n",
      "##########----------\n",
      "##########----------\n",
      "##########----------\n",
      "##########----------\n",
      "--------------------\n",
      "--------------------\n",
      "--------------------\n",
      "--------------------\n",
      "--------------------\n"
     ]
    }
   ],
   "execution_count": 20
  },
  {
   "metadata": {},
   "cell_type": "code",
   "outputs": [],
   "execution_count": null,
   "source": "",
   "id": "888a92f52e2bb750"
  }
 ],
 "metadata": {
  "kernelspec": {
   "display_name": "Python 3",
   "language": "python",
   "name": "python3"
  },
  "language_info": {
   "codemirror_mode": {
    "name": "ipython",
    "version": 2
   },
   "file_extension": ".py",
   "mimetype": "text/x-python",
   "name": "python",
   "nbconvert_exporter": "python",
   "pygments_lexer": "ipython2",
   "version": "2.7.6"
  }
 },
 "nbformat": 4,
 "nbformat_minor": 5
}
