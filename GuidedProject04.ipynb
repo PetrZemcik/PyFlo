{
 "cells": [
  {
   "metadata": {},
   "cell_type": "markdown",
   "source": "# **Guided Project 4: To-Do List Tracker**",
   "id": "1507b2891a1781"
  },
  {
   "metadata": {},
   "cell_type": "markdown",
   "source": "### **Implement the show_todo_list Function**",
   "id": "d2b9da6d4f40ec28"
  },
  {
   "metadata": {
    "ExecuteTime": {
     "end_time": "2024-09-16T18:33:33.601189Z",
     "start_time": "2024-09-16T18:33:33.594281Z"
    }
   },
   "cell_type": "code",
   "source": [
    "# This code creates the todo.txt file for you to test with.\n",
    "# You can change what gets written to test various scenarios!\n",
    "f = open('todo.txt', 'w')\n",
    "f.write('do laundry\\ngo to gym\\n')\n",
    "f.close()\n",
    "\n",
    "def show_todo_list():\n",
    "    # Put your code here!\n",
    "    f = open('todo.txt', 'r')\n",
    "    todo_list = f.readlines()\n",
    "    f.close()\n",
    "    for i in range(len(todo_list)):\n",
    "        todo_list[i] = todo_list[i].strip()\n",
    "        print(f'* ({i+1}) {todo_list[i]}')\n",
    "    pass\n",
    "\n",
    "show_todo_list()"
   ],
   "id": "cf77047c4ab93e80",
   "outputs": [
    {
     "name": "stdout",
     "output_type": "stream",
     "text": [
      "* (1) do laundry\n",
      "* (2) go to gym\n"
     ]
    }
   ],
   "execution_count": 3
  },
  {
   "metadata": {},
   "cell_type": "markdown",
   "source": "### **Implement the add_todo_list Function**",
   "id": "fa5c9a5b43994ff6"
  },
  {
   "metadata": {
    "ExecuteTime": {
     "end_time": "2024-09-16T18:35:42.008812Z",
     "start_time": "2024-09-16T18:35:41.994571Z"
    }
   },
   "cell_type": "code",
   "source": [
    "# This code creates the todo.txt file for you to test with.\n",
    "# You can change what gets written to test various scenarios!\n",
    "f = open('todo.txt', 'w')\n",
    "f.write('do laundry\\ngo to gym\\n')\n",
    "f.close()\n",
    "  \n",
    "def add_to_todo_list(item):\n",
    "    # Put your code here!\n",
    "    f = open('todo.txt', 'a')\n",
    "    f.write(f'{item}\\n')\n",
    "    f.close()\n",
    "    pass\n",
    "\n",
    "add_to_todo_list('Do Laundry')"
   ],
   "id": "829447bfc22c357a",
   "outputs": [],
   "execution_count": 5
  },
  {
   "metadata": {},
   "cell_type": "markdown",
   "source": "### **Implement the remove_from_todo_list Function**",
   "id": "c8c1f2259c0fc02c"
  },
  {
   "metadata": {},
   "cell_type": "code",
   "outputs": [],
   "execution_count": null,
   "source": [
    "# This code creates the todo.txt file for you to test with.\n",
    "# You can change what gets written to test various scenarios!\n",
    "f = open('todo.txt', 'w')\n",
    "f.write('do laundry\\ngo to gym\\n')\n",
    "f.close()\n",
    "\n",
    "def remove_from_todo_list(number):\n",
    "    # Put your code here!\n",
    "    f = open('todo.txt', 'r')\n",
    "    todo_list = f.readlines()\n",
    "    f.close()\n",
    "    todo_list.pop(number-1)\n",
    "    f = open('todo.txt', 'w')\n",
    "    for item in todo_list:\n",
    "        f.write(item)\n",
    "    f.close()\n",
    "    pass"
   ],
   "id": "89cc75b3bac77d5c"
  },
  {
   "metadata": {
    "ExecuteTime": {
     "end_time": "2024-09-16T18:43:04.604387Z",
     "start_time": "2024-09-16T18:43:04.586506Z"
    }
   },
   "cell_type": "code",
   "source": [
    "def main():\n",
    "    '''\n",
    "    This is the main function!\n",
    "    It handles the command loop logic, and calls the other functions when necessary.\n",
    "    '''\n",
    "    command = ''\n",
    "    while command != 'exit':\n",
    "        command = input('show, add, remove, or exit? ')\n",
    "        if command == 'show':\n",
    "            show_todo_list()\n",
    "        elif command == 'add':\n",
    "            task = input('What task needs to be added? ')\n",
    "            add_to_todo_list(task)\n",
    "        elif command == 'remove':\n",
    "            number = int(input('What item number should be removed? '))\n",
    "            remove_from_todo_list(number)\n",
    "    print('Goodbye!')"
   ],
   "id": "a73c14cdf470ed05",
   "outputs": [],
   "execution_count": 6
  },
  {
   "metadata": {
    "ExecuteTime": {
     "end_time": "2024-09-16T18:44:12.376323Z",
     "start_time": "2024-09-16T18:43:12.173858Z"
    }
   },
   "cell_type": "code",
   "source": "jupyter nbconvert --to script GuidedProject04.ipynb --output todo_list_tracker.pymain()",
   "id": "a8fa802e8b8092ba",
   "outputs": [
    {
     "name": "stdout",
     "output_type": "stream",
     "text": [
      "Goodbye!\n"
     ]
    }
   ],
   "execution_count": 7
  }
 ],
 "metadata": {
  "kernelspec": {
   "display_name": "Python 3",
   "language": "python",
   "name": "python3"
  },
  "language_info": {
   "codemirror_mode": {
    "name": "ipython",
    "version": 2
   },
   "file_extension": ".py",
   "mimetype": "text/x-python",
   "name": "python",
   "nbconvert_exporter": "python",
   "pygments_lexer": "ipython2",
   "version": "2.7.6"
  }
 },
 "nbformat": 4,
 "nbformat_minor": 5
}
