{
 "cells": [
  {
   "metadata": {},
   "cell_type": "markdown",
   "source": "# **FUNCTIONS**",
   "id": "d7e03aeddaad950e"
  },
  {
   "metadata": {},
   "cell_type": "markdown",
   "source": "### **Iterate Trough Strings**",
   "id": "2627732eb5e6f536"
  },
  {
   "metadata": {},
   "cell_type": "code",
   "source": [
    "string = 'The big brown fox'\n",
    "i = 0\n",
    "while i < len(string):\n",
    "    print(string[i])\n",
    "    i += 1"
   ],
   "id": "fbcd88faf99af76f",
   "outputs": [],
   "execution_count": null
  },
  {
   "metadata": {},
   "cell_type": "code",
   "source": [
    "string = 'The big brown fox'\n",
    "for i in range(0, len(string)):\n",
    "    print(string[i])"
   ],
   "id": "5222ff408782e829",
   "outputs": [],
   "execution_count": null
  },
  {
   "metadata": {},
   "cell_type": "code",
   "source": [
    "string = 'The big brown fox'\n",
    "for char in string:\n",
    "    print(char)"
   ],
   "id": "15e869416795e785",
   "outputs": [],
   "execution_count": null
  },
  {
   "metadata": {},
   "cell_type": "code",
   "source": [
    "# write a program that validates that a phone number is in this format (XXX-XXX-XXXX).\n",
    "phone = input('Enter your phone number: ')\n",
    "if len(phone) != 12:\n",
    "    print('Invalid phone number!')\n",
    "if phone[3] != '-' or phone[7] != '-':\n",
    "    print('Invalid phone number!')\n",
    "if phone[0].isdigit() == False or phone[1].isdigit() == False or phone[2].isdigit() == False or phone[4].isdigit() == False or phone[5].isdigit() == False or phone[6].isdigit() == False or phone[8].isdigit() == False or phone[9].isdigit() == False or phone[10].isdigit() == False or phone[11].isdigit() == False: \n",
    "    print('Invalid phone number!')"
   ],
   "id": "436d838d33ae5c49",
   "outputs": [],
   "execution_count": null
  },
  {
   "metadata": {},
   "cell_type": "code",
   "source": [
    "# write a program that validates that a phone number is in this format (XXX-XXX-XXXX).\n",
    "phone = input('Enter your phone number: ')\n",
    "# print(phone)\n",
    "# print(len(phone))\n",
    "if len(phone) != 12:\n",
    "    print('Invalid phone number!')\n",
    "if phone[3] != '-' or phone[7] != '-':\n",
    "    print('Invalid phone number!')\n",
    "for i in range(0, 12):\n",
    "    # print(i)\n",
    "    # print(phone[i].isdigit())\n",
    "    if i != 3 and i != 7 and phone[i].isdigit() == False:\n",
    "        print('Invalid phone number!')"
   ],
   "id": "26fe74775c294900",
   "outputs": [],
   "execution_count": null
  },
  {
   "metadata": {},
   "cell_type": "code",
   "source": [
    "# Comprehensive solution\n",
    "import sys # import the sys module\n",
    "\n",
    "phone = input('Enter your phone number: ')\n",
    "\n",
    "# Check to ensure that what the user gave us is 11 characters\n",
    "if len(phone) != 12:\n",
    "    print('Invalid phone number!')\n",
    "    sys.exit() # simple exit does not work in the Jupyter notebook\n",
    "\n",
    "# Ensure that the dashes are in the correct locations\n",
    "if phone[3] != '-' or phone[7] != '-':\n",
    "    print('Invalid phone number!')\n",
    "    sys.exit()\n",
    "\n",
    "# Ensure every other character is a digit\n",
    "for i in range(0, 12):\n",
    "    if i != 3 and i != 7 and phone[i].isdigit() == False:\n",
    "        print('Invalid phone number!')\n",
    "        sys.exit()\n",
    "\n",
    "print('Valid phone number!')"
   ],
   "id": "e76f900a4ab16d6b",
   "outputs": [],
   "execution_count": null
  },
  {
   "metadata": {},
   "cell_type": "markdown",
   "source": "### **Functions**",
   "id": "e14edc476273b7b"
  },
  {
   "metadata": {},
   "cell_type": "code",
   "source": [
    "def print_welcome():\n",
    "    print(\"Welcome to the program\")\n",
    "    print(\"I hope you enjoy it\")\n",
    "\n",
    "print_welcome()"
   ],
   "id": "c12a7f8e95ff3093",
   "outputs": [],
   "execution_count": null
  },
  {
   "metadata": {},
   "cell_type": "code",
   "source": [
    "def print_welcome():\n",
    "    print(\"Welcome to the program\")\n",
    "    print(\"I hope you enjoy it\")\n",
    "\n",
    "for i in range(0, 5):\n",
    "    print_welcome()"
   ],
   "id": "cd1fa97678c75a6a",
   "outputs": [],
   "execution_count": null
  },
  {
   "metadata": {},
   "cell_type": "code",
   "source": [
    "def determine_golf_performance():\n",
    "    par = int(input('What par was the hole?\\n'))\n",
    "    strokes = int(input('How many strokes did you use?\\n'))\n",
    "             \n",
    "    if par-3 == strokes:\n",
    "        print('Albatross')\n",
    "    elif par-2 == strokes:\n",
    "        print('Eagle')\n",
    "    elif par-1 == strokes:\n",
    "        print('Birdie')\n",
    "    elif par == strokes:\n",
    "        print('Par')\n",
    "    elif par+1 == strokes:\n",
    "        print('Bogey')\n",
    "    elif par+2 == strokes:\n",
    "        print('Double Bogey')\n",
    "    elif par+3 == strokes:\n",
    "        print('Triple Bogey')\n",
    "    else:    \n",
    "        print('I don\\'t know? Please try again.')\n",
    "        \n",
    "determine_golf_performance()"
   ],
   "id": "6668267dfa3dd777",
   "outputs": [],
   "execution_count": null
  },
  {
   "metadata": {},
   "cell_type": "markdown",
   "source": "### **Function Arguments, Parameters, Return**",
   "id": "c530c13806651908"
  },
  {
   "metadata": {},
   "cell_type": "code",
   "source": [
    "def multiply_by_two(number):\n",
    "    new_number = number * 2\n",
    "    return new_number\n",
    "   \n",
    "r1 = multiply_by_two(10)\n",
    "r2 = multiply_by_two(50)\n",
    "print(\"Numbers:\", r1, r2)"
   ],
   "id": "9926bf5607f09985",
   "outputs": [],
   "execution_count": null
  },
  {
   "metadata": {},
   "cell_type": "code",
   "source": [
    "def determine_golf_performance(par, strokes):\n",
    "    if par-3 == strokes:\n",
    "        return 'Albatross'\n",
    "    elif par-2 == strokes:\n",
    "        return 'Eagle'\n",
    "    elif par-1 == strokes:\n",
    "        return 'Birdie'\n",
    "    elif par == strokes:\n",
    "        return 'Par'\n",
    "    elif par+1 == strokes:\n",
    "        return 'Bogey'\n",
    "    elif par+2 == strokes:\n",
    "        return 'Double Bogey'\n",
    "    elif par+3 == strokes:\n",
    "        return 'Triple Bogey'\n",
    "    else:    \n",
    "        return '?'\n",
    "\n",
    "def iterate_through_holes():\n",
    "    hole = 1\n",
    "    while hole <= 2:\n",
    "        par = int(input('What par was the hole?\\n'))\n",
    "        strokes = int(input('How many strokes did you use?\\n'))\n",
    "        result = determine_golf_performance(par, strokes)\n",
    "        print(\"Hole\", hole, \"performance is\", result)\n",
    "        hole += 1\n",
    "\n",
    "print(\"Use this tool to give you feedback on how you golfed\")\n",
    "iterate_through_holes()"
   ],
   "id": "eec9a0e89a80bb70",
   "outputs": [],
   "execution_count": null
  },
  {
   "metadata": {},
   "cell_type": "code",
   "source": [
    "def is_phone_valid(phone):\n",
    "  if len(phone) != 12 or phone[3] != '-' or phone[7] != '-':\n",
    "      return False\n",
    "  for i in range(0, 12):\n",
    "      if i != 3 and i != 7 and phone[i].isdigit() == False:\n",
    "          return False\n",
    "  return True\n",
    "\n",
    "phone = input('Enter your phone number: ')\n",
    "\n",
    "if is_phone_valid(phone)==True:\n",
    "    print('Valid phone number!')\n",
    "else:\n",
    "    print('Invalid phone number!')\n"
   ],
   "id": "b02b6db92d9ed870",
   "outputs": [],
   "execution_count": null
  },
  {
   "metadata": {
    "ExecuteTime": {
     "end_time": "2024-09-15T09:37:35.994391Z",
     "start_time": "2024-09-15T09:37:35.988395Z"
    }
   },
   "cell_type": "code",
   "source": [
    "def is_phone_valid(phone):\n",
    "  if len(phone) != 12 or phone[3] != '-' or phone[7] != '-':\n",
    "      return False\n",
    "  for i in range(0, 12):\n",
    "      if i != 3 and i != 7 and phone[i].isdigit() == False:\n",
    "          return False\n",
    "  return True\n",
    "\n",
    "\n",
    "def is_email_valid(email):\n",
    "    at_count = 0\n",
    "    dot_count = 0\n",
    "    for character in email:\n",
    "        if character == '@':\n",
    "            at_count += 1\n",
    "        if character == '.':\n",
    "            dot_count += 1\n",
    "    return at_count == 1 and dot_count >= 1\n",
    "\n",
    "def main():\n",
    "    print(\"Welcome to the sign-up form.\")\n",
    "    print(\"Please provide your email and phone number so we can contact you.\")\n",
    "    # Jupyter Notebook prints this twice for some reason if the main() is in the same cell, it works in the Python code, and when  main() is in a different cell\n",
    "    number = input(\"Phone number: \")\n",
    "    address = input(\"Email Address: \")\n",
    "\n",
    "    number_valid = is_phone_valid(number)\n",
    "    address_valid = is_email_valid(address)\n",
    "\n",
    "    if number_valid and address_valid:\n",
    "        print(\"Thanks for providing your information\")\n",
    "    else:\n",
    "        print(\"Something is not right. Please try again.\")"
   ],
   "id": "92ee7db927069b8b",
   "outputs": [],
   "execution_count": 15
  },
  {
   "metadata": {
    "ExecuteTime": {
     "end_time": "2024-09-15T09:38:00.444062Z",
     "start_time": "2024-09-15T09:37:39.889373Z"
    }
   },
   "cell_type": "code",
   "source": "main()",
   "id": "24816efde29d11a1",
   "outputs": [
    {
     "name": "stdout",
     "output_type": "stream",
     "text": [
      "Welcome to the sign-up form.\n",
      "Please provide your email and phone number so we can contact you.\n",
      "Thanks for providing your information\n"
     ]
    }
   ],
   "execution_count": 16
  },
  {
   "metadata": {},
   "cell_type": "markdown",
   "source": "### **Multiple Parameters**",
   "id": "9c05f73c35e4e548"
  },
  {
   "metadata": {
    "ExecuteTime": {
     "end_time": "2024-09-15T10:58:40.286883Z",
     "start_time": "2024-09-15T10:58:40.268870Z"
    }
   },
   "cell_type": "code",
   "source": [
    "def compute_tax(income, credits):\n",
    "    net = income - credits\n",
    "    if net < 50000:\n",
    "        return net * 0.15\n",
    "    elif net < 100000:\n",
    "        return net * 0.20\n",
    "    return net * .25\n",
    "\n",
    "def calculate_monthly_payment(amount, years, interest_rate):\n",
    "    monthly_interest = interest_rate / (12*100)                   \n",
    "    months = years * 12                                \n",
    "    top = amount * ( monthly_interest * (1 + monthly_interest)**months )\n",
    "    monthly_payment = top / ( (1 + monthly_interest)**months - 1 )\n",
    "    return monthly_payment  \n",
    "\n",
    "def main():\n",
    "    salary      = int(input('How much money did you make this year? '))\n",
    "    user_credit = int(input('How much tax credit do you have? '))\n",
    "    mortgage    = int(input('How much is your mortgage? '))\n",
    "    years       = int(input('How many years is your mortgage? '))\n",
    "    interest    = float(input('What is your mortgage interest rate? '))\n",
    "\n",
    "    result = compute_tax(salary, user_credit)\n",
    "    print('You owe $' + str(result) + ' in taxes.')\n",
    "\n",
    "    result = calculate_monthly_payment(mortgage, years, interest)\n",
    "    print('Your mortgage payment should be $' + str(result) + ' per month.')"
   ],
   "id": "47625bccb6256cf1",
   "outputs": [],
   "execution_count": 27
  },
  {
   "metadata": {
    "ExecuteTime": {
     "end_time": "2024-09-15T10:59:10.435041Z",
     "start_time": "2024-09-15T10:58:43.000470Z"
    }
   },
   "cell_type": "code",
   "source": "main()",
   "id": "6939e044d9128c8d",
   "outputs": [
    {
     "name": "stdout",
     "output_type": "stream",
     "text": [
      "You owe $25000.0 in taxes.\n",
      "Your mortgage payment should be $584.5900415079801 per month.\n"
     ]
    }
   ],
   "execution_count": 28
  },
  {
   "metadata": {},
   "cell_type": "markdown",
   "source": "### **Functions with Multiple Return Values**",
   "id": "4a36dad07f8890b5"
  },
  {
   "metadata": {
    "ExecuteTime": {
     "end_time": "2024-09-15T11:04:59.675069Z",
     "start_time": "2024-09-15T11:04:59.664212Z"
    }
   },
   "cell_type": "code",
   "source": [
    "def compute_tax(income, credits):\n",
    "    net = income - credits\n",
    "    tax = 0\n",
    "    remaining = 0\n",
    "    if net < 50000:\n",
    "        tax = net * 0.15\n",
    "    elif net < 100000:\n",
    "        tax = net * 0.20\n",
    "    remaining = net - tax\n",
    "    return tax, remaining    "
   ],
   "id": "b6565928118b65a4",
   "outputs": [],
   "execution_count": 29
  },
  {
   "metadata": {
    "ExecuteTime": {
     "end_time": "2024-09-15T11:05:15.507480Z",
     "start_time": "2024-09-15T11:05:15.501751Z"
    }
   },
   "cell_type": "code",
   "source": [
    "tax_owed, leftover = compute_tax(50000, 5000)\n",
    "print(\" Taxes you owe: \" + str(tax_owed))\n",
    "print(\"Money leftover: \" + str(leftover))"
   ],
   "id": "6b23edfa5257d0c3",
   "outputs": [
    {
     "name": "stdout",
     "output_type": "stream",
     "text": [
      " Taxes you owe: 6750.0\n",
      "Money leftover: 38250.0\n"
     ]
    }
   ],
   "execution_count": 30
  }
 ],
 "metadata": {
  "kernelspec": {
   "display_name": "Python 3",
   "language": "python",
   "name": "python3"
  },
  "language_info": {
   "codemirror_mode": {
    "name": "ipython",
    "version": 2
   },
   "file_extension": ".py",
   "mimetype": "text/x-python",
   "name": "python",
   "nbconvert_exporter": "python",
   "pygments_lexer": "ipython2",
   "version": "2.7.6"
  }
 },
 "nbformat": 4,
 "nbformat_minor": 5
}
